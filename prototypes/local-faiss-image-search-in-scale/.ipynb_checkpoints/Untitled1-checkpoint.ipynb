{
 "cells": [
  {
   "cell_type": "code",
   "execution_count": 3,
   "id": "2712ce75",
   "metadata": {},
   "outputs": [
    {
     "data": {
      "text/plain": [
       "2170.1388888888887"
      ]
     },
     "execution_count": 3,
     "metadata": {},
     "output_type": "execute_result"
    }
   ],
   "source": [
    "375000000/(48*60*60)"
   ]
  },
  {
   "cell_type": "code",
   "execution_count": 12,
   "id": "1b2a8db8",
   "metadata": {},
   "outputs": [
    {
     "data": {
      "text/plain": [
       "43.2"
      ]
     },
     "execution_count": 12,
     "metadata": {},
     "output_type": "execute_result"
    }
   ],
   "source": [
    "30*24*60*0.001"
   ]
  },
  {
   "cell_type": "code",
   "execution_count": 13,
   "id": "b8e4ef78",
   "metadata": {},
   "outputs": [
    {
     "data": {
      "text/plain": [
       "65536"
      ]
     },
     "execution_count": 13,
     "metadata": {},
     "output_type": "execute_result"
    }
   ],
   "source": [
    "pow(2,16)"
   ]
  },
  {
   "cell_type": "code",
   "execution_count": 14,
   "id": "d02b0973",
   "metadata": {},
   "outputs": [
    {
     "data": {
      "text/plain": [
       "4294967296"
      ]
     },
     "execution_count": 14,
     "metadata": {},
     "output_type": "execute_result"
    }
   ],
   "source": [
    "pow(2,32)"
   ]
  },
  {
   "cell_type": "code",
   "execution_count": 25,
   "id": "27a0fe23",
   "metadata": {},
   "outputs": [
    {
     "data": {
      "text/plain": [
       "'Thu Jan  1 01:00:00 1970'"
      ]
     },
     "execution_count": 25,
     "metadata": {},
     "output_type": "execute_result"
    }
   ],
   "source": [
    "import datetime\n",
    "t = datetime.datetime.fromtimestamp(0)\n",
    "t.ctime()"
   ]
  },
  {
   "cell_type": "code",
   "execution_count": 31,
   "id": "73903dd5",
   "metadata": {},
   "outputs": [],
   "source": [
    "t = datetime.datetime.fromtimestamp"
   ]
  },
  {
   "cell_type": "code",
   "execution_count": 34,
   "id": "edd2c10c",
   "metadata": {},
   "outputs": [
    {
     "name": "stdout",
     "output_type": "stream",
     "text": [
      "2039-03-14 00:00:00-04:00\n",
      "2039-03-14 03:00:00-04:00\n"
     ]
    }
   ],
   "source": [
    "from zoneinfo  import ZoneInfo\n",
    "import datetime\n",
    "dt = datetime.datetime(2039,3,14,0,0, tzinfo = ZoneInfo(r'America/New_York'))\n",
    "print(dt)                                      # Output: 2038-03-14 00:00:00-05:00\n",
    "print(dt+datetime.timedelta(hours=3))     \n"
   ]
  },
  {
   "cell_type": "code",
   "execution_count": 35,
   "id": "46f8c116",
   "metadata": {},
   "outputs": [
    {
     "data": {
      "text/plain": [
       "128"
      ]
     },
     "execution_count": 35,
     "metadata": {},
     "output_type": "execute_result"
    }
   ],
   "source": [
    "8*16"
   ]
  },
  {
   "cell_type": "code",
   "execution_count": 36,
   "id": "e1fb13a9",
   "metadata": {},
   "outputs": [
    {
     "data": {
      "text/plain": [
       "66"
      ]
     },
     "execution_count": 36,
     "metadata": {},
     "output_type": "execute_result"
    }
   ],
   "source": [
    "2^64"
   ]
  },
  {
   "cell_type": "code",
   "execution_count": 37,
   "id": "0492f51d",
   "metadata": {},
   "outputs": [
    {
     "data": {
      "text/plain": [
       "18446744073709551616"
      ]
     },
     "execution_count": 37,
     "metadata": {},
     "output_type": "execute_result"
    }
   ],
   "source": [
    "pow(2,64)"
   ]
  },
  {
   "cell_type": "code",
   "execution_count": 38,
   "id": "12d6c67c",
   "metadata": {},
   "outputs": [
    {
     "data": {
      "text/plain": [
       "4294967296"
      ]
     },
     "execution_count": 38,
     "metadata": {},
     "output_type": "execute_result"
    }
   ],
   "source": [
    "pow(2,32)"
   ]
  },
  {
   "cell_type": "code",
   "execution_count": 39,
   "id": "62966531",
   "metadata": {},
   "outputs": [
    {
     "name": "stdout",
     "output_type": "stream",
     "text": [
      "The Zen of Python, by Tim Peters\n",
      "\n",
      "Beautiful is better than ugly.\n",
      "Explicit is better than implicit.\n",
      "Simple is better than complex.\n",
      "Complex is better than complicated.\n",
      "Flat is better than nested.\n",
      "Sparse is better than dense.\n",
      "Readability counts.\n",
      "Special cases aren't special enough to break the rules.\n",
      "Although practicality beats purity.\n",
      "Errors should never pass silently.\n",
      "Unless explicitly silenced.\n",
      "In the face of ambiguity, refuse the temptation to guess.\n",
      "There should be one-- and preferably only one --obvious way to do it.\n",
      "Although that way may not be obvious at first unless you're Dutch.\n",
      "Now is better than never.\n",
      "Although never is often better than *right* now.\n",
      "If the implementation is hard to explain, it's a bad idea.\n",
      "If the implementation is easy to explain, it may be a good idea.\n",
      "Namespaces are one honking great idea -- let's do more of those!\n"
     ]
    }
   ],
   "source": [
    "import this"
   ]
  },
  {
   "cell_type": "code",
   "execution_count": 44,
   "id": "999b56a2",
   "metadata": {},
   "outputs": [
    {
     "ename": "ValueError",
     "evalue": "not enough values to unpack (expected 2, got 1)",
     "output_type": "error",
     "traceback": [
      "\u001b[0;31m---------------------------------------------------------------------------\u001b[0m",
      "\u001b[0;31mValueError\u001b[0m                                Traceback (most recent call last)",
      "Cell \u001b[0;32mIn[44], line 1\u001b[0m\n\u001b[0;32m----> 1\u001b[0m \u001b[38;5;28;01mfor\u001b[39;00m i,j \u001b[38;5;129;01min\u001b[39;00m [[\u001b[38;5;241m1\u001b[39m],[\u001b[38;5;241m2\u001b[39m],[\u001b[38;5;241m3\u001b[39m],[\u001b[38;5;241m4\u001b[39m]]:\n\u001b[1;32m      2\u001b[0m     \u001b[38;5;28mprint\u001b[39m(i)\n",
      "\u001b[0;31mValueError\u001b[0m: not enough values to unpack (expected 2, got 1)"
     ]
    }
   ],
   "source": [
    "for i,j in [[1],[2],[3],[4]]:\n",
    "    print(i)"
   ]
  },
  {
   "cell_type": "code",
   "execution_count": 47,
   "id": "bd586aed",
   "metadata": {},
   "outputs": [
    {
     "data": {
      "text/plain": [
       "86.4"
      ]
     },
     "execution_count": 47,
     "metadata": {},
     "output_type": "execute_result"
    }
   ],
   "source": [
    "(24*60*60*500000*2*1000)/pow(10,12)"
   ]
  },
  {
   "cell_type": "code",
   "execution_count": 49,
   "id": "295e3239",
   "metadata": {},
   "outputs": [
    {
     "data": {
      "text/plain": [
       "1562.5"
      ]
     },
     "execution_count": 49,
     "metadata": {},
     "output_type": "execute_result"
    }
   ],
   "source": [
    "100000/64"
   ]
  },
  {
   "cell_type": "code",
   "execution_count": 50,
   "id": "d8377956",
   "metadata": {},
   "outputs": [
    {
     "data": {
      "text/plain": [
       "12.5"
      ]
     },
     "execution_count": 50,
     "metadata": {},
     "output_type": "execute_result"
    }
   ],
   "source": [
    "100/8"
   ]
  },
  {
   "cell_type": "code",
   "execution_count": 52,
   "id": "1586ea58",
   "metadata": {},
   "outputs": [
    {
     "data": {
      "text/plain": [
       "'b'"
      ]
     },
     "execution_count": 52,
     "metadata": {},
     "output_type": "execute_result"
    }
   ],
   "source": [
    "stack=[]\n",
    "stack.append('a')\n",
    "stack.append('b')\n",
    "stack.pop()"
   ]
  },
  {
   "cell_type": "code",
   "execution_count": 54,
   "id": "5049b3ad",
   "metadata": {},
   "outputs": [
    {
     "data": {
      "text/plain": [
       "deque(['a', 'b', 'c'])"
      ]
     },
     "execution_count": 54,
     "metadata": {},
     "output_type": "execute_result"
    }
   ],
   "source": [
    "from collections import deque\n",
    "stack = deque()\n",
    "stack.append('a')\n",
    "stack.append('b')\n",
    "stack.append('c')\n",
    "stack"
   ]
  },
  {
   "cell_type": "code",
   "execution_count": 60,
   "id": "e447e668",
   "metadata": {},
   "outputs": [
    {
     "data": {
      "text/plain": [
       "['b']"
      ]
     },
     "execution_count": 60,
     "metadata": {},
     "output_type": "execute_result"
    }
   ],
   "source": [
    "from queue import LifoQueue\n",
    "stack = LifoQueue(maxsize=3)\n",
    "stack.put('a')\n",
    "stack.put('b')\n",
    "list(stack.get())"
   ]
  },
  {
   "cell_type": "code",
   "execution_count": 67,
   "id": "91960905",
   "metadata": {},
   "outputs": [
    {
     "data": {
      "text/plain": [
       "([1, 3, 2, 1], 10)"
      ]
     },
     "execution_count": 67,
     "metadata": {},
     "output_type": "execute_result"
    }
   ],
   "source": [
    "a=[1,2,3,1]\n",
    "a.count(1)\n",
    "a.index(1)\n",
    "a.reverse()\n",
    "a.append(10)\n",
    "a, a.pop()"
   ]
  },
  {
   "cell_type": "code",
   "execution_count": 71,
   "id": "7bf51adb",
   "metadata": {},
   "outputs": [
    {
     "data": {
      "text/plain": [
       "7"
      ]
     },
     "execution_count": 71,
     "metadata": {},
     "output_type": "execute_result"
    }
   ],
   "source": [
    "stack=[3,4,5]\n",
    "stack.append(6)\n",
    "stack.append(7)\n",
    "stack\n",
    "stack.pop()"
   ]
  },
  {
   "cell_type": "code",
   "execution_count": 78,
   "id": "8ddaa18d",
   "metadata": {},
   "outputs": [
    {
     "data": {
      "text/plain": [
       "4"
      ]
     },
     "execution_count": 78,
     "metadata": {},
     "output_type": "execute_result"
    }
   ],
   "source": [
    "from collections import deque\n",
    "q = deque([1,2,3,4])\n",
    "\n",
    "list(q)\n",
    "q.pop()"
   ]
  },
  {
   "cell_type": "code",
   "execution_count": 80,
   "id": "7eeaa6c3",
   "metadata": {},
   "outputs": [
    {
     "data": {
      "text/plain": [
       "[0, 1, 2, 3, 4, 5, 6, 7, 8, 9]"
      ]
     },
     "execution_count": 80,
     "metadata": {},
     "output_type": "execute_result"
    }
   ],
   "source": [
    "s=[]\n",
    "for x in range(10):\n",
    "    s.append(x)\n",
    "s"
   ]
  },
  {
   "cell_type": "code",
   "execution_count": 82,
   "id": "e0ba18ac",
   "metadata": {},
   "outputs": [
    {
     "data": {
      "text/plain": [
       "[0, 1, 4, 9, 16]"
      ]
     },
     "execution_count": 82,
     "metadata": {},
     "output_type": "execute_result"
    }
   ],
   "source": [
    "s = list(map(lambda x: x**2, range(5)))\n",
    "s"
   ]
  },
  {
   "cell_type": "code",
   "execution_count": 83,
   "id": "e28c776d",
   "metadata": {},
   "outputs": [
    {
     "data": {
      "text/plain": [
       "[0, 1, 4, 9, 16, 25, 36, 49, 64, 81]"
      ]
     },
     "execution_count": 83,
     "metadata": {},
     "output_type": "execute_result"
    }
   ],
   "source": [
    "[x**2 for x in range(10)]"
   ]
  },
  {
   "cell_type": "code",
   "execution_count": 84,
   "id": "428ef081",
   "metadata": {},
   "outputs": [
    {
     "data": {
      "text/plain": [
       "[(1, 4), (1, 5), (1, 6), (2, 4), (2, 5), (2, 6), (3, 4), (3, 5), (3, 6)]"
      ]
     },
     "execution_count": 84,
     "metadata": {},
     "output_type": "execute_result"
    }
   ],
   "source": [
    "[(x,y) for x in [1,2,3] for y in [4,5,6] if x!=y]"
   ]
  },
  {
   "cell_type": "code",
   "execution_count": 86,
   "id": "4161e677",
   "metadata": {},
   "outputs": [
    {
     "data": {
      "text/plain": [
       "[(1, 4), (1, 5), (1, 6), (2, 4), (2, 5), (2, 6), (3, 4), (3, 5), (3, 6)]"
      ]
     },
     "execution_count": 86,
     "metadata": {},
     "output_type": "execute_result"
    }
   ],
   "source": [
    "c=[]\n",
    "for x in [1,2,3]:\n",
    "    for y in [4,5,6]:\n",
    "        if x!= y:\n",
    "            c.append((x,y))\n",
    "c"
   ]
  },
  {
   "cell_type": "code",
   "execution_count": 88,
   "id": "54bc1c6b",
   "metadata": {},
   "outputs": [],
   "source": [
    "c=[]\n",
    "for x in [1,2,3]:\n",
    "    for y in  [4,5,6]:\n",
    "        if x!=y:\n",
    "            c.append((x,y))"
   ]
  },
  {
   "cell_type": "code",
   "execution_count": 94,
   "id": "2c02f6d1",
   "metadata": {},
   "outputs": [
    {
     "data": {
      "text/plain": [
       "[4]"
      ]
     },
     "execution_count": 94,
     "metadata": {},
     "output_type": "execute_result"
    }
   ],
   "source": [
    "vec=[1,2,4]\n",
    "[x*2 for x in vec if x>=0]\n",
    "[x for x in vec if x >2]\n",
    "[abs(x) for x in vec if x==4]"
   ]
  },
  {
   "cell_type": "code",
   "execution_count": 96,
   "id": "78f40b2d",
   "metadata": {},
   "outputs": [
    {
     "data": {
      "text/plain": [
       "['he', 'lll']"
      ]
     },
     "execution_count": 96,
     "metadata": {},
     "output_type": "execute_result"
    }
   ],
   "source": [
    "[w.strip() for w in ['he', 'lll ']]"
   ]
  },
  {
   "cell_type": "code",
   "execution_count": 100,
   "id": "93e5c12d",
   "metadata": {},
   "outputs": [
    {
     "data": {
      "text/plain": [
       "['3.1', '3.14', '3.142', '3.1416', '3.14159']"
      ]
     },
     "execution_count": 100,
     "metadata": {},
     "output_type": "execute_result"
    }
   ],
   "source": [
    "from math import pi \n",
    "[str(round(pi, i)) for i  in range(1,6)]"
   ]
  },
  {
   "cell_type": "code",
   "execution_count": 102,
   "id": "77756cd4",
   "metadata": {},
   "outputs": [
    {
     "data": {
      "text/plain": [
       "['3.1', '3.14', '3.142', '3.1416', '3.14159']"
      ]
     },
     "execution_count": 102,
     "metadata": {},
     "output_type": "execute_result"
    }
   ],
   "source": [
    "from math import pi\n",
    "[str(round(pi, i)) for i in range(1,6)]"
   ]
  },
  {
   "cell_type": "code",
   "execution_count": 103,
   "id": "481e398a",
   "metadata": {},
   "outputs": [
    {
     "data": {
      "text/plain": [
       "[[1, 2, 3], [4, 5, 6]]"
      ]
     },
     "execution_count": 103,
     "metadata": {},
     "output_type": "execute_result"
    }
   ],
   "source": [
    "m=[[1,2,3],[4,5,6]]\n",
    "m"
   ]
  },
  {
   "cell_type": "code",
   "execution_count": 106,
   "id": "2736ec5f",
   "metadata": {},
   "outputs": [
    {
     "data": {
      "text/plain": [
       "[[1, 4], [2, 5], [3, 6]]"
      ]
     },
     "execution_count": 106,
     "metadata": {},
     "output_type": "execute_result"
    }
   ],
   "source": [
    "[[row[i] for row in m] for i in range(3)]"
   ]
  },
  {
   "cell_type": "code",
   "execution_count": 109,
   "id": "c148b8d6",
   "metadata": {},
   "outputs": [
    {
     "data": {
      "text/plain": [
       "[[1, 4], [2, 5], [3, 6]]"
      ]
     },
     "execution_count": 109,
     "metadata": {},
     "output_type": "execute_result"
    }
   ],
   "source": [
    "transposed=[]\n",
    "for i in range(3):\n",
    "    transposed_row=[]\n",
    "    for row in m:\n",
    "        transposed_row.append(row[i])\n",
    "    transposed.append(transposed_row)\n",
    "transposed"
   ]
  },
  {
   "cell_type": "code",
   "execution_count": 116,
   "id": "cd4c10fd",
   "metadata": {},
   "outputs": [
    {
     "data": {
      "text/plain": [
       "[2, 3, 4, 5]"
      ]
     },
     "execution_count": 116,
     "metadata": {},
     "output_type": "execute_result"
    }
   ],
   "source": [
    "a = [1,2,3,4,5]\n",
    "del  a[0]\n",
    "a\n"
   ]
  },
  {
   "cell_type": "code",
   "execution_count": 118,
   "id": "b4ed61cd",
   "metadata": {},
   "outputs": [
    {
     "data": {
      "text/plain": [
       "(0, 1)"
      ]
     },
     "execution_count": 118,
     "metadata": {},
     "output_type": "execute_result"
    }
   ],
   "source": [
    "empty=()\n",
    "s='hello',\n",
    "len(empty), len(s)\n"
   ]
  },
  {
   "cell_type": "code",
   "execution_count": 123,
   "id": "c26cabd8",
   "metadata": {},
   "outputs": [
    {
     "data": {
      "text/plain": [
       "{1: 11, 2: 22}"
      ]
     },
     "execution_count": 123,
     "metadata": {},
     "output_type": "execute_result"
    }
   ],
   "source": [
    "d={1:11, 2:22}\n",
    "d"
   ]
  },
  {
   "cell_type": "code",
   "execution_count": 122,
   "id": "1f7937cc",
   "metadata": {},
   "outputs": [
    {
     "data": {
      "text/plain": [
       "1"
      ]
     },
     "execution_count": 122,
     "metadata": {},
     "output_type": "execute_result"
    }
   ],
   "source": [
    "d.get(1)"
   ]
  },
  {
   "cell_type": "code",
   "execution_count": 134,
   "id": "dd862e9c",
   "metadata": {},
   "outputs": [],
   "source": [
    "from collections import Counter\n",
    "class Solution:\n",
    "    def isAnagram(self, s: str, t: str)->bool:\n",
    "#         return Counter(t) == Counter(s)\n",
    "        \n",
    "        return sorted(s)==sorted(t)\n",
    "\n",
    "        if len(s)!=len(t):\n",
    "            return False\n",
    "        countS, countT =  {}, {}\n",
    "        for i in range(len(s)):\n",
    "            countS[s[i]] = 1 + countS.get(s[i],0)\n",
    "            countT[t[i]] = 1 + countT.get(t[i],0) \n",
    "        for c in countS:\n",
    "            if countS[c] != countT.get(c,0):\n",
    "                return False\n",
    "        return True "
   ]
  },
  {
   "cell_type": "code",
   "execution_count": 135,
   "id": "12b11d95",
   "metadata": {},
   "outputs": [
    {
     "data": {
      "text/plain": [
       "False"
      ]
     },
     "execution_count": 135,
     "metadata": {},
     "output_type": "execute_result"
    }
   ],
   "source": [
    "Solution().isAnagram('abc','xyz')"
   ]
  },
  {
   "cell_type": "code",
   "execution_count": 138,
   "id": "6c61fe6f",
   "metadata": {},
   "outputs": [
    {
     "data": {
      "text/plain": [
       "[1, 2]"
      ]
     },
     "execution_count": 138,
     "metadata": {},
     "output_type": "execute_result"
    }
   ],
   "source": [
    "from typing import List\n",
    "class Solution:\n",
    "    def twoSum(self, nums:List[int], target: int)->List[int]:\n",
    "        prevMap = {}\n",
    "        for i, n in enumerate(nums):\n",
    "            diff = target-n\n",
    "            if diff in prevMap:\n",
    "                return [prevMap[diff], i]\n",
    "            prevMap[n] = i\n",
    "        return \n",
    "Solution().twoSum([1,2,3,4],5)"
   ]
  },
  {
   "cell_type": "code",
   "execution_count": null,
   "id": "498d4bda",
   "metadata": {},
   "outputs": [],
   "source": [
    "# subarray \n",
    "nums=[-2,1,-3,4,-1,2,1,-5,4]"
   ]
  },
  {
   "cell_type": "code",
   "execution_count": 139,
   "id": "7bf1ef90",
   "metadata": {},
   "outputs": [
    {
     "ename": "SyntaxError",
     "evalue": "expected '(' (1420140745.py, line 1)",
     "output_type": "error",
     "traceback": [
      "\u001b[0;36m  Cell \u001b[0;32mIn[139], line 1\u001b[0;36m\u001b[0m\n\u001b[0;31m    def Solution:\u001b[0m\n\u001b[0m                ^\u001b[0m\n\u001b[0;31mSyntaxError\u001b[0m\u001b[0;31m:\u001b[0m expected '('\n"
     ]
    }
   ],
   "source": [
    "def Solution:\n",
    "    def maxSubArray(self, nums: List[int]) -> int:\n",
    "        maxSub = nums[0]\n",
    "        curSum = 0\n",
    "        \n",
    "        for n in nums:\n",
    "            if curSum<0:\n",
    "                curSum=0\n",
    "            curSum += n \n",
    "            maxSub = max(maxSub, curSum)\n",
    "        return maxSub"
   ]
  },
  {
   "cell_type": "code",
   "execution_count": 156,
   "id": "e8d47b14",
   "metadata": {},
   "outputs": [
    {
     "data": {
      "text/plain": [
       "([1, 3], [1, 2])"
      ]
     },
     "execution_count": 156,
     "metadata": {},
     "output_type": "execute_result"
    }
   ],
   "source": [
    "a=[1,2,3,4]\n",
    "a[:6:2], a[:-2]"
   ]
  },
  {
   "cell_type": "code",
   "execution_count": 170,
   "id": "1cc0765d",
   "metadata": {},
   "outputs": [
    {
     "data": {
      "text/plain": [
       "['a', 'f', 'k', 'p', 'u']"
      ]
     },
     "execution_count": 170,
     "metadata": {},
     "output_type": "execute_result"
    }
   ],
   "source": [
    "a=[chr(i) for i in range(97,120, 5)]\n",
    "a"
   ]
  },
  {
   "cell_type": "code",
   "execution_count": 176,
   "id": "e84e0aa1",
   "metadata": {},
   "outputs": [],
   "source": [
    "flag=False \n",
    "for i in a:\n",
    "    if i=='x':\n",
    "        flag = True\n",
    "        break\n",
    "    else:\n",
    "        flag = False\n",
    "if flag: \n",
    "    print(flag)"
   ]
  },
  {
   "cell_type": "code",
   "execution_count": 177,
   "id": "abd34acd",
   "metadata": {},
   "outputs": [
    {
     "name": "stdout",
     "output_type": "stream",
     "text": [
      "True\n"
     ]
    }
   ],
   "source": [
    "if i in a:\n",
    "    print(True)\n",
    "else:\n",
    "    print(False)"
   ]
  },
  {
   "cell_type": "code",
   "execution_count": 180,
   "id": "d4eb80dc",
   "metadata": {},
   "outputs": [
    {
     "name": "stdout",
     "output_type": "stream",
     "text": [
      "     *      \n",
      "    ***     \n",
      "   *****    \n",
      "  *******   \n",
      " *********  \n",
      "*********** \n"
     ]
    }
   ],
   "source": [
    "triangle_line=6\n",
    "format_str = \"{:^\" + str(tringle_line*2) + \"}\"\n",
    "for i in range(1, triangle_line*2 + 1, 2):\n",
    "    print(format_str.format(\"*\" * i))"
   ]
  },
  {
   "cell_type": "code",
   "execution_count": 183,
   "id": "4e2f681f",
   "metadata": {},
   "outputs": [
    {
     "data": {
      "text/plain": [
       "(2, 'Hello')"
      ]
     },
     "execution_count": 183,
     "metadata": {},
     "output_type": "execute_result"
    }
   ],
   "source": [
    "'hello'.find('ll'), 'hello'.capitalize()"
   ]
  },
  {
   "cell_type": "code",
   "execution_count": 184,
   "id": "159b356f",
   "metadata": {},
   "outputs": [
    {
     "data": {
      "text/plain": [
       "['192', '168', '0', '1']"
      ]
     },
     "execution_count": 184,
     "metadata": {},
     "output_type": "execute_result"
    }
   ],
   "source": [
    "\"192.168.0.1\".split('.')"
   ]
  },
  {
   "cell_type": "code",
   "execution_count": 190,
   "id": "c089ff17",
   "metadata": {},
   "outputs": [
    {
     "name": "stdout",
     "output_type": "stream",
     "text": [
      "['1970-01-01', '10:10:10']\n",
      "['1970', '01', '01']\n",
      "['10', '10', '10']\n"
     ]
    }
   ],
   "source": [
    "date=\"1970-01-01 10:10:10\"\n",
    "print(date.split(\" \"))\n",
    "print(result[0].split(\"-\"))\n",
    "print(result[1].split(\":\"))"
   ]
  },
  {
   "cell_type": "code",
   "execution_count": 192,
   "id": "bdc4e262",
   "metadata": {},
   "outputs": [
    {
     "data": {
      "text/plain": [
       "'hexlo'"
      ]
     },
     "execution_count": 192,
     "metadata": {},
     "output_type": "execute_result"
    }
   ],
   "source": [
    "'hello'.replace('l', 'x', 1)"
   ]
  },
  {
   "cell_type": "code",
   "execution_count": 194,
   "id": "95e8bb88",
   "metadata": {},
   "outputs": [
    {
     "name": "stdout",
     "output_type": "stream",
     "text": [
      "hello_world_hi\n"
     ]
    }
   ],
   "source": [
    "s='hello world hi'\n",
    "mt_a=s.maketrans(\" \", \"_\")\n",
    "print(s.translate(mt_a))"
   ]
  },
  {
   "cell_type": "code",
   "execution_count": 202,
   "id": "8405d6d6",
   "metadata": {},
   "outputs": [
    {
     "data": {
      "text/plain": [
       "'   h hello'"
      ]
     },
     "execution_count": 202,
     "metadata": {},
     "output_type": "execute_result"
    }
   ],
   "source": [
    "'   h hello   '.split(':')[0].rstrip()"
   ]
  },
  {
   "cell_type": "code",
   "execution_count": 205,
   "id": "626008c9",
   "metadata": {},
   "outputs": [
    {
     "data": {
      "text/plain": [
       "['he', '', 'o']"
      ]
     },
     "execution_count": 205,
     "metadata": {},
     "output_type": "execute_result"
    }
   ],
   "source": [
    "'hello'.split('l')"
   ]
  },
  {
   "cell_type": "code",
   "execution_count": 207,
   "id": "c09624d4",
   "metadata": {},
   "outputs": [
    {
     "data": {
      "text/plain": [
       "{None: None}"
      ]
     },
     "execution_count": 207,
     "metadata": {},
     "output_type": "execute_result"
    }
   ],
   "source": [
    "d={None:None}\n",
    "d"
   ]
  },
  {
   "cell_type": "code",
   "execution_count": 213,
   "id": "fa59beb3",
   "metadata": {},
   "outputs": [
    {
     "data": {
      "text/plain": [
       "False"
      ]
     },
     "execution_count": 213,
     "metadata": {},
     "output_type": "execute_result"
    }
   ],
   "source": [
    "a = [i for i in range(0,30)]\n",
    "b = [i for i in range(30,40)]\n",
    "set(b).issubset(set(a))"
   ]
  },
  {
   "cell_type": "code",
   "execution_count": 234,
   "id": "9d750dea",
   "metadata": {},
   "outputs": [
    {
     "ename": "SyntaxError",
     "evalue": "expected ':' (3840900153.py, line 7)",
     "output_type": "error",
     "traceback": [
      "\u001b[0;36m  Cell \u001b[0;32mIn[234], line 7\u001b[0;36m\u001b[0m\n\u001b[0;31m    if map()\u001b[0m\n\u001b[0m            ^\u001b[0m\n\u001b[0;31mSyntaxError\u001b[0m\u001b[0;31m:\u001b[0m expected ':'\n"
     ]
    }
   ],
   "source": [
    "a=[[0,30],[5,10], [15,20]]\n",
    "b=[]\n",
    "for item in a:\n",
    "    m=[i for i in range(item[0], item[1])]\n",
    "    b.append(m)\n",
    "    print(m)\n",
    "    if map(set(b).issubset(set(b[:])))"
   ]
  },
  {
   "cell_type": "code",
   "execution_count": 218,
   "id": "d395e49a",
   "metadata": {},
   "outputs": [],
   "source": [
    "d=dict(a)\n"
   ]
  },
  {
   "cell_type": "code",
   "execution_count": 235,
   "id": "d150fa5f",
   "metadata": {
    "scrolled": true
   },
   "outputs": [
    {
     "name": "stdout",
     "output_type": "stream",
     "text": [
      "0 30\n",
      "5 10\n"
     ]
    }
   ],
   "source": [
    "a=[[0,30],[5,10]]\n",
    "a.sort()\n",
    "d=dict(a)\n",
    "for i in d:\n",
    "    print(i, d[i])\n",
    "    \n",
    "    "
   ]
  },
  {
   "cell_type": "code",
   "execution_count": 239,
   "id": "8e50c696",
   "metadata": {},
   "outputs": [
    {
     "data": {
      "text/plain": [
       "{0: 30, 5: 10, 6: 6}"
      ]
     },
     "execution_count": 239,
     "metadata": {},
     "output_type": "execute_result"
    }
   ],
   "source": [
    "d.update({6:6})\n",
    "d"
   ]
  },
  {
   "cell_type": "code",
   "execution_count": 240,
   "id": "2e84f8fc",
   "metadata": {},
   "outputs": [
    {
     "data": {
      "text/plain": [
       "[0, 1, 2, 3, 4, 5, 6, 7, 8, 9]"
      ]
     },
     "execution_count": 240,
     "metadata": {},
     "output_type": "execute_result"
    }
   ],
   "source": [
    "l=[i for i in range(10)]\n",
    "l"
   ]
  },
  {
   "cell_type": "code",
   "execution_count": 264,
   "id": "9cc5162b",
   "metadata": {},
   "outputs": [
    {
     "ename": "TypeError",
     "evalue": "can only concatenate list (not \"int\") to list",
     "output_type": "error",
     "traceback": [
      "\u001b[0;31m---------------------------------------------------------------------------\u001b[0m",
      "\u001b[0;31mTypeError\u001b[0m                                 Traceback (most recent call last)",
      "Cell \u001b[0;32mIn[264], line 1\u001b[0m\n\u001b[0;32m----> 1\u001b[0m d\u001b[38;5;241m=\u001b[39m\u001b[38;5;28mdict\u001b[39m(\u001b[38;5;28mzip\u001b[39m(l, \u001b[43ml\u001b[49m\u001b[38;5;241;43m+\u001b[39;49m\u001b[38;5;241;43m1\u001b[39;49m))\n\u001b[1;32m      2\u001b[0m d\n",
      "\u001b[0;31mTypeError\u001b[0m: can only concatenate list (not \"int\") to list"
     ]
    }
   ],
   "source": [
    "d=dict(zip(l, l))\n",
    "d"
   ]
  },
  {
   "cell_type": "code",
   "execution_count": 253,
   "id": "e74aea18",
   "metadata": {},
   "outputs": [
    {
     "data": {
      "text/plain": [
       "{0: 0, 1: 1, 2: 2, 3: 3, 4: 4, 5: 5, 6: 6, 7: 7, 8: 8, 9: 9}"
      ]
     },
     "execution_count": 253,
     "metadata": {},
     "output_type": "execute_result"
    }
   ],
   "source": [
    "x=_\n",
    "x"
   ]
  },
  {
   "cell_type": "code",
   "execution_count": 255,
   "id": "570edeed",
   "metadata": {},
   "outputs": [
    {
     "name": "stdout",
     "output_type": "stream",
     "text": [
      "0\n",
      "1\n",
      "3\n",
      "6\n",
      "10\n",
      "15\n",
      "21\n",
      "28\n",
      "36\n",
      "45\n"
     ]
    }
   ],
   "source": [
    "sum=0\n",
    "for num in l:\n",
    "    sum = sum+num\n",
    "    print(sum)"
   ]
  },
  {
   "cell_type": "code",
   "execution_count": 256,
   "id": "f05b6bfd",
   "metadata": {},
   "outputs": [
    {
     "name": "stdout",
     "output_type": "stream",
     "text": [
      "0\n",
      "1\n",
      "3\n",
      "6\n",
      "10\n",
      "15\n",
      "21\n",
      "28\n",
      "36\n",
      "45\n"
     ]
    }
   ],
   "source": [
    "sum=0\n",
    "for n in l:\n",
    "    sum+=n\n",
    "    print(sum)"
   ]
  },
  {
   "cell_type": "code",
   "execution_count": 257,
   "id": "83a5af88",
   "metadata": {},
   "outputs": [
    {
     "data": {
      "text/plain": [
       "[4, 3, 5, 2, 6, 7]"
      ]
     },
     "execution_count": 257,
     "metadata": {},
     "output_type": "execute_result"
    }
   ],
   "source": [
    "l=[4,3,5,2,6,7]\n",
    "l"
   ]
  },
  {
   "cell_type": "code",
   "execution_count": 259,
   "id": "7f1440e0",
   "metadata": {},
   "outputs": [
    {
     "name": "stdout",
     "output_type": "stream",
     "text": [
      "4\n",
      "3\n",
      "5\n",
      "2\n",
      "6\n",
      "7\n"
     ]
    }
   ],
   "source": [
    "for i in range(len(l)):\n",
    "    print(l[i])"
   ]
  },
  {
   "cell_type": "code",
   "execution_count": 260,
   "id": "81832642",
   "metadata": {},
   "outputs": [
    {
     "data": {
      "text/plain": [
       "{0: 0, 1: 1, 2: 2, 3: 3, 4: 4, 5: 5, 6: 6, 7: 7, 8: 8, 9: 9}"
      ]
     },
     "execution_count": 260,
     "metadata": {},
     "output_type": "execute_result"
    }
   ],
   "source": [
    "d"
   ]
  },
  {
   "cell_type": "code",
   "execution_count": 268,
   "id": "ba59a544",
   "metadata": {},
   "outputs": [
    {
     "name": "stdout",
     "output_type": "stream",
     "text": [
      "a 1 ('a', 1)\n",
      "b 2 ('b', 2)\n"
     ]
    }
   ],
   "source": [
    "d={'a':1, 'b':2}\n",
    "for i in d.items():\n",
    "    print(i[0], i[1],  i)"
   ]
  },
  {
   "cell_type": "code",
   "execution_count": 269,
   "id": "4dad6c48",
   "metadata": {},
   "outputs": [
    {
     "name": "stdout",
     "output_type": "stream",
     "text": [
      "a 1\n",
      "b 2\n"
     ]
    }
   ],
   "source": [
    "for i in d.items():\n",
    "    k,v=i\n",
    "    print(k,v)"
   ]
  },
  {
   "cell_type": "code",
   "execution_count": 287,
   "id": "d82fb098",
   "metadata": {},
   "outputs": [
    {
     "data": {
      "text/plain": [
       "[10, 7, 10, 5, 6, 6, 3, 6, 7, 7]"
      ]
     },
     "execution_count": 287,
     "metadata": {},
     "output_type": "execute_result"
    }
   ],
   "source": [
    "from random import randint , choice\n",
    "from string import ascii_lowercase\n",
    "\n",
    "ll=[]\n",
    "for num in range(10):\n",
    "    ll.append(randint(1,10))\n",
    "ll"
   ]
  },
  {
   "cell_type": "code",
   "execution_count": 288,
   "id": "bb702b28",
   "metadata": {},
   "outputs": [
    {
     "data": {
      "text/plain": [
       "['z', 'o', 'w', 'h', 'i', 'b', 'm', 'y', 'g']"
      ]
     },
     "execution_count": 288,
     "metadata": {},
     "output_type": "execute_result"
    }
   ],
   "source": [
    "[choice(ascii_lowercase) for n in range(1,10)]"
   ]
  },
  {
   "cell_type": "code",
   "execution_count": 294,
   "id": "4b855ddf",
   "metadata": {},
   "outputs": [
    {
     "data": {
      "text/plain": [
       "[('d', 0), ('z', 1), ('v', 2), ('p', 3), ('f', 4)]"
      ]
     },
     "execution_count": 294,
     "metadata": {},
     "output_type": "execute_result"
    }
   ],
   "source": [
    "d=[choice(ascii_lowercase) for _ in range(5)]\n",
    "n=[i for i in range(5)]\n",
    "list(zip(d,n))"
   ]
  },
  {
   "cell_type": "code",
   "execution_count": 295,
   "id": "e425300b",
   "metadata": {},
   "outputs": [
    {
     "data": {
      "text/plain": [
       "method"
      ]
     },
     "execution_count": 295,
     "metadata": {},
     "output_type": "execute_result"
    }
   ],
   "source": [
    "type(input)"
   ]
  },
  {
   "cell_type": "code",
   "execution_count": 296,
   "id": "1f6bcd54",
   "metadata": {},
   "outputs": [
    {
     "data": {
      "text/plain": [
       "2"
      ]
     },
     "execution_count": 296,
     "metadata": {},
     "output_type": "execute_result"
    }
   ],
   "source": [
    "eval('1+1')"
   ]
  },
  {
   "cell_type": "code",
   "execution_count": 298,
   "id": "be368375",
   "metadata": {},
   "outputs": [
    {
     "data": {
      "text/plain": [
       "[0, 1, 2, 3, 4, 5, 6, 7, 8, 9]"
      ]
     },
     "execution_count": 298,
     "metadata": {},
     "output_type": "execute_result"
    }
   ],
   "source": [
    "nums = [i for i in range(10)]\n",
    "nums\n"
   ]
  },
  {
   "cell_type": "code",
   "execution_count": 299,
   "id": "a2df1581",
   "metadata": {},
   "outputs": [],
   "source": [
    "class HouseRobber:\n",
    "    def rob(self, nums: List[int])->int:\n",
    "        r1, r2 = 0, 0 \n",
    "        for n in nums:\n",
    "            temp = max(n+r1, r2)\n",
    "            r1 = r2\n",
    "            r2 = temp\n",
    "        return r2"
   ]
  },
  {
   "cell_type": "code",
   "execution_count": 315,
   "id": "5c4fb194",
   "metadata": {},
   "outputs": [],
   "source": [
    "class Solution:\n",
    "    def maxProfit(self, prices: List[int])->int:\n",
    "        l, r = 0, 1   # l = buy, r = sell \n",
    "        maxP = 0 \n",
    "        \n",
    "        while r < len(prices):\n",
    "            # profitable?\n",
    "            if prices[l] < prices[r]:\n",
    "                profit = prices[r]-prices[l]\n",
    "                maxP = max(maxP, profit)\n",
    "            else:\n",
    "                l=r\n",
    "            r+=1\n",
    "\n",
    "        return maxP"
   ]
  },
  {
   "cell_type": "code",
   "execution_count": 316,
   "id": "c298c874",
   "metadata": {},
   "outputs": [
    {
     "name": "stdout",
     "output_type": "stream",
     "text": [
      "5\n"
     ]
    }
   ],
   "source": [
    "print(Solution().maxProfit([7,1,5,3,6,4]))"
   ]
  },
  {
   "cell_type": "code",
   "execution_count": 317,
   "id": "89698339",
   "metadata": {},
   "outputs": [],
   "source": [
    "class Solution:\n",
    "    def maxProfit(self, prices: List[int])->int:\n",
    "        l, r = 0, 1   # l: buy, r: sell \n",
    "        maxP = 0 \n",
    "        while r < len(prices):\n",
    "            if prices[l] < prices[r]:\n",
    "                profit = prices[r]-prices[l]\n",
    "                maxP = max(maxP, profit)\n",
    "            else:   # if l > r \n",
    "                l=r                \n",
    "            r+=1\n",
    "        return maxP\n",
    "        \n",
    "    \n",
    "        "
   ]
  },
  {
   "cell_type": "code",
   "execution_count": 326,
   "id": "7b9d1a2b",
   "metadata": {},
   "outputs": [
    {
     "data": {
      "text/plain": [
       "(True, True)"
      ]
     },
     "execution_count": 326,
     "metadata": {},
     "output_type": "execute_result"
    }
   ],
   "source": [
    "f = float('inf')\n",
    "isinstance(f, float), f==float('inf')"
   ]
  },
  {
   "cell_type": "code",
   "execution_count": 319,
   "id": "ea3a069d",
   "metadata": {},
   "outputs": [],
   "source": [
    "a=[3]"
   ]
  },
  {
   "cell_type": "code",
   "execution_count": 320,
   "id": "d0e792d6",
   "metadata": {},
   "outputs": [
    {
     "data": {
      "text/plain": [
       "[3]"
      ]
     },
     "execution_count": 320,
     "metadata": {},
     "output_type": "execute_result"
    }
   ],
   "source": [
    "a"
   ]
  },
  {
   "cell_type": "code",
   "execution_count": 337,
   "id": "2173722f",
   "metadata": {},
   "outputs": [
    {
     "data": {
      "text/plain": [
       "[0, 6, 5, 9, 5, 4, 7, 9, 2, 4]"
      ]
     },
     "execution_count": 337,
     "metadata": {},
     "output_type": "execute_result"
    }
   ],
   "source": [
    "from random import randint, choices\n",
    "\n",
    "arr = choices(range(10), k=10)\n",
    "arr"
   ]
  },
  {
   "cell_type": "code",
   "execution_count": 338,
   "id": "d864e9a4",
   "metadata": {},
   "outputs": [
    {
     "data": {
      "text/plain": [
       "[0, 1, 2, 3, 4, 5, 6, 7, 8, 9]"
      ]
     },
     "execution_count": 338,
     "metadata": {},
     "output_type": "execute_result"
    }
   ],
   "source": [
    "arr=[i for i in range(10)]\n",
    "arr"
   ]
  },
  {
   "cell_type": "code",
   "execution_count": 339,
   "id": "0d2b0c14",
   "metadata": {},
   "outputs": [],
   "source": [
    "def longest_substr(s):\n",
    "    longest = 0 \n",
    "    for start_index in range(len(s)):\n",
    "        contains=set()\n",
    "        for letter in s[start_index:]:\n",
    "            if letter in contains:\n",
    "                break\n",
    "            contains.add(letter)\n",
    "        longest = max(longest, len(contains))\n",
    "    return longest \n"
   ]
  },
  {
   "cell_type": "code",
   "execution_count": 342,
   "id": "94574285",
   "metadata": {},
   "outputs": [
    {
     "data": {
      "text/plain": [
       "3"
      ]
     },
     "execution_count": 342,
     "metadata": {},
     "output_type": "execute_result"
    }
   ],
   "source": [
    "# abcabcbb -> 3\n",
    "s='abcabcbb'\n",
    "longest_substr(s)"
   ]
  },
  {
   "cell_type": "code",
   "execution_count": 347,
   "id": "25444e30",
   "metadata": {},
   "outputs": [
    {
     "data": {
      "text/plain": [
       "{'a': 97,\n",
       " 'b': 98,\n",
       " 'c': 99,\n",
       " 'd': 100,\n",
       " 'e': 101,\n",
       " 'f': 102,\n",
       " 'g': 103,\n",
       " 'h': 104,\n",
       " 'i': 105,\n",
       " 'j': 106,\n",
       " 'k': 107,\n",
       " 'l': 108,\n",
       " 'm': 109,\n",
       " 'n': 110,\n",
       " 'o': 111,\n",
       " 'p': 112,\n",
       " 'q': 113,\n",
       " 'r': 114,\n",
       " 's': 115,\n",
       " 't': 116,\n",
       " 'u': 117,\n",
       " 'v': 118,\n",
       " 'w': 119,\n",
       " 'x': 120,\n",
       " 'y': 121,\n",
       " 'z': 122}"
      ]
     },
     "execution_count": 347,
     "metadata": {},
     "output_type": "execute_result"
    }
   ],
   "source": [
    "import string \n",
    "{k: ord(k) for (k, v) in zip(string.ascii_lowercase, range(26))}"
   ]
  },
  {
   "cell_type": "code",
   "execution_count": 348,
   "id": "2879a68a",
   "metadata": {},
   "outputs": [
    {
     "data": {
      "text/plain": [
       "{'a': 1, 'b': 2, 'c': 3}"
      ]
     },
     "execution_count": 348,
     "metadata": {},
     "output_type": "execute_result"
    }
   ],
   "source": [
    "list1, list2 = ['a', 'b', 'c'], [1,2,3]\n",
    "dict(zip(list1, list2))"
   ]
  },
  {
   "cell_type": "code",
   "execution_count": 365,
   "id": "f9858015",
   "metadata": {},
   "outputs": [
    {
     "name": "stdout",
     "output_type": "stream",
     "text": [
      "before heapify nums=[6, 4, 2, 1, 5, 3]\n",
      "after heapify nums=[1, 4, 2, 6, 5, 3]\n",
      "after heap sort result=[1, 2, 3, 4, 5, 6]\n"
     ]
    }
   ],
   "source": [
    "import heapq\n",
    "\n",
    "nums = [6,4,2,1,5,3]\n",
    "print(f'before heapify {nums=}')\n",
    "heapq.heapify(nums) # Heap queue is minheap, min element at the top of the queue\n",
    "print(f'after heapify {nums=}')\n",
    "result = []\n",
    "while nums:\n",
    "    result.append(heapq.heappop(nums))\n",
    "print(f'after heap sort {result=}')"
   ]
  },
  {
   "cell_type": "code",
   "execution_count": 63,
   "id": "94709adb",
   "metadata": {},
   "outputs": [
    {
     "data": {
      "text/plain": [
       "[0, 1, 2, 3, 4, 5, 6, 7, 8, 9]"
      ]
     },
     "execution_count": 63,
     "metadata": {},
     "output_type": "execute_result"
    }
   ],
   "source": [
    "stack=[]\n",
    "for i in range(10):\n",
    "    stack.append(i)\n",
    "stack"
   ]
  },
  {
   "cell_type": "code",
   "execution_count": 64,
   "id": "d9ad32b0",
   "metadata": {},
   "outputs": [
    {
     "name": "stdout",
     "output_type": "stream",
     "text": [
      "9 8 7 6 5 4 3 2 1 0 "
     ]
    }
   ],
   "source": [
    "while stack: \n",
    "    print(stack.pop(), end = ' ')"
   ]
  },
  {
   "cell_type": "code",
   "execution_count": 67,
   "id": "4ab732f5",
   "metadata": {},
   "outputs": [
    {
     "name": "stdout",
     "output_type": "stream",
     "text": [
      "0 1 2 3 4 5 6 7 8 9 "
     ]
    }
   ],
   "source": [
    "queue = []    # create a queue \n",
    "for i in range(10):\n",
    "    queue.append(i)    # [0, 1, 2, 3, 4, 5, 6, 7, 8, 9]\n",
    "while queue:\n",
    "    print(queue.pop(0), end = ' ')"
   ]
  },
  {
   "cell_type": "code",
   "execution_count": null,
   "id": "96141a32",
   "metadata": {},
   "outputs": [],
   "source": [
    "graph = {\n",
    "    'A': ['B', 'C'],\n",
    "    'B': ['D', 'E'],\n",
    "    'C': [''],\n",
    "    'D': [''],\n",
    "    'E': ['']\n",
    "}"
   ]
  },
  {
   "cell_type": "code",
   "execution_count": 69,
   "id": "069197c0",
   "metadata": {},
   "outputs": [
    {
     "data": {
      "text/plain": [
       "(1, 0)"
      ]
     },
     "execution_count": 69,
     "metadata": {},
     "output_type": "execute_result"
    }
   ],
   "source": [
    "m = [[]]\n",
    "len(m), len(m[0])"
   ]
  },
  {
   "cell_type": "code",
   "execution_count": 71,
   "id": "7426e4d3",
   "metadata": {},
   "outputs": [
    {
     "data": {
      "text/plain": [
       "True"
      ]
     },
     "execution_count": 71,
     "metadata": {},
     "output_type": "execute_result"
    }
   ],
   "source": [
    "def binary_search(nums, k) -> bool:\n",
    "    l, r = 0, len(nums)-1\n",
    "    while l <= r:\n",
    "        m = (l+r) // 2 \n",
    "        if k > nums[m]:\n",
    "            l = m + 1\n",
    "        elif k < nums[m]:\n",
    "            r = m -1 \n",
    "        else:\n",
    "            return True\n",
    "    return False\n",
    "\n",
    "nums = [ i for i in range(10)]\n",
    "k = 3\n",
    "binary_search(nums, k)"
   ]
  },
  {
   "cell_type": "code",
   "execution_count": 76,
   "id": "64de077d",
   "metadata": {},
   "outputs": [
    {
     "data": {
      "text/plain": [
       "[-2, 3, 2, -1, 4, 5]"
      ]
     },
     "execution_count": 76,
     "metadata": {},
     "output_type": "execute_result"
    }
   ],
   "source": [
    "a=[-2,3,2,-1,4,5]\n",
    "a"
   ]
  },
  {
   "cell_type": "code",
   "execution_count": 157,
   "id": "26f66e88",
   "metadata": {},
   "outputs": [],
   "source": [
    "def kadane(a):\n",
    "    max_current = max_global = a[0]\n",
    "    for i in range(len(a)-1):\n",
    "        max_current = max(a[i], max_current+a[i])\n",
    "        if max_current > max_global:\n",
    "            max_global = max_current\n",
    "    return max_global\n"
   ]
  },
  {
   "cell_type": "code",
   "execution_count": 158,
   "id": "612c1885",
   "metadata": {},
   "outputs": [
    {
     "data": {
      "text/plain": [
       "44"
      ]
     },
     "execution_count": 158,
     "metadata": {},
     "output_type": "execute_result"
    }
   ],
   "source": [
    "kadane(a)"
   ]
  },
  {
   "cell_type": "code",
   "execution_count": 193,
   "id": "57cb8880",
   "metadata": {},
   "outputs": [],
   "source": [
    "def kadane2(a):\n",
    "    meh = msf = a[0]\n",
    "    res = []\n",
    "    for i in range(1, len(a)):\n",
    "        meh = meh + a[i]\n",
    "        if meh < a[i]:\n",
    "            meh = a[i]\n",
    "        if msf < meh:\n",
    "            msf = meh \n",
    "    return msf\n"
   ]
  },
  {
   "cell_type": "code",
   "execution_count": 194,
   "id": "9bad7f5e",
   "metadata": {},
   "outputs": [
    {
     "data": {
      "text/plain": [
       "7"
      ]
     },
     "execution_count": 194,
     "metadata": {},
     "output_type": "execute_result"
    }
   ],
   "source": [
    "a=[-2,-3,4,-1,-2,1,5,-3]\n",
    "kadane2(a)"
   ]
  },
  {
   "cell_type": "code",
   "execution_count": 164,
   "id": "2de51200",
   "metadata": {},
   "outputs": [
    {
     "data": {
      "text/plain": [
       "7"
      ]
     },
     "execution_count": 164,
     "metadata": {},
     "output_type": "execute_result"
    }
   ],
   "source": [
    "kadane(a)"
   ]
  },
  {
   "cell_type": "code",
   "execution_count": 182,
   "id": "5a723ae3",
   "metadata": {},
   "outputs": [
    {
     "data": {
      "text/plain": [
       "4"
      ]
     },
     "execution_count": 182,
     "metadata": {},
     "output_type": "execute_result"
    }
   ],
   "source": [
    "sum([-3, 4, -1, -2, 1, 5])"
   ]
  },
  {
   "cell_type": "code",
   "execution_count": 218,
   "id": "13257051",
   "metadata": {},
   "outputs": [],
   "source": [
    "import numpy as np \n",
    "\n",
    "def f(n):\n",
    "    y = np.float32(n)\n",
    "    i = y.view(np.int32)\n",
    "    i = 0x5F3759DF - (i >> 1)\n",
    "    y = i.view((np.float32))"
   ]
  },
  {
   "cell_type": "code",
   "execution_count": 219,
   "id": "7a0582a5",
   "metadata": {},
   "outputs": [
    {
     "ename": "ValueError",
     "evalue": "Changing the dtype of a 0d array is only supported if the itemsize is unchanged",
     "output_type": "error",
     "traceback": [
      "\u001b[0;31m---------------------------------------------------------------------------\u001b[0m",
      "\u001b[0;31mValueError\u001b[0m                                Traceback (most recent call last)",
      "Cell \u001b[0;32mIn[219], line 1\u001b[0m\n\u001b[0;32m----> 1\u001b[0m \u001b[43mf\u001b[49m\u001b[43m(\u001b[49m\u001b[38;5;241;43m22\u001b[39;49m\u001b[43m)\u001b[49m\n",
      "Cell \u001b[0;32mIn[218], line 7\u001b[0m, in \u001b[0;36mf\u001b[0;34m(n)\u001b[0m\n\u001b[1;32m      5\u001b[0m i \u001b[38;5;241m=\u001b[39m y\u001b[38;5;241m.\u001b[39mview(np\u001b[38;5;241m.\u001b[39mint32)\n\u001b[1;32m      6\u001b[0m i \u001b[38;5;241m=\u001b[39m \u001b[38;5;241m0x5F3759DF\u001b[39m \u001b[38;5;241m-\u001b[39m (i \u001b[38;5;241m>>\u001b[39m \u001b[38;5;241m1\u001b[39m)\n\u001b[0;32m----> 7\u001b[0m y \u001b[38;5;241m=\u001b[39m \u001b[43mi\u001b[49m\u001b[38;5;241;43m.\u001b[39;49m\u001b[43mview\u001b[49m\u001b[43m(\u001b[49m\u001b[43m(\u001b[49m\u001b[43mnp\u001b[49m\u001b[38;5;241;43m.\u001b[39;49m\u001b[43mfloat32\u001b[49m\u001b[43m)\u001b[49m\u001b[43m)\u001b[49m\n",
      "\u001b[0;31mValueError\u001b[0m: Changing the dtype of a 0d array is only supported if the itemsize is unchanged"
     ]
    }
   ],
   "source": [
    "f(22)"
   ]
  },
  {
   "cell_type": "code",
   "execution_count": 234,
   "id": "fbebdddc",
   "metadata": {},
   "outputs": [
    {
     "ename": "ValueError",
     "evalue": "Changing the dtype of a 0d array is only supported if the itemsize is unchanged",
     "output_type": "error",
     "traceback": [
      "\u001b[0;31m---------------------------------------------------------------------------\u001b[0m",
      "\u001b[0;31mValueError\u001b[0m                                Traceback (most recent call last)",
      "Cell \u001b[0;32mIn[234], line 4\u001b[0m\n\u001b[1;32m      2\u001b[0m i \u001b[38;5;241m=\u001b[39m y\u001b[38;5;241m.\u001b[39mview(np\u001b[38;5;241m.\u001b[39mint32)\n\u001b[1;32m      3\u001b[0m i \u001b[38;5;241m=\u001b[39m \u001b[38;5;241m0x5F3759DF\u001b[39m \u001b[38;5;241m-\u001b[39m (i \u001b[38;5;241m>>\u001b[39m \u001b[38;5;241m1\u001b[39m)\n\u001b[0;32m----> 4\u001b[0m y \u001b[38;5;241m=\u001b[39m \u001b[43mi\u001b[49m\u001b[38;5;241;43m.\u001b[39;49m\u001b[43mview\u001b[49m\u001b[43m(\u001b[49m\u001b[43mnp\u001b[49m\u001b[38;5;241;43m.\u001b[39;49m\u001b[43mfloat32\u001b[49m\u001b[43m)\u001b[49m\n\u001b[1;32m      5\u001b[0m y \u001b[38;5;241m*\u001b[39m\u001b[38;5;241m=\u001b[39m \u001b[38;5;241m1.5\u001b[39m \u001b[38;5;241m-\u001b[39m (\u001b[38;5;241m22\u001b[39m\u001b[38;5;241m*\u001b[39m\u001b[38;5;241m0.5\u001b[39m\u001b[38;5;241m*\u001b[39my\u001b[38;5;241m*\u001b[39my)\n\u001b[1;32m      6\u001b[0m \u001b[38;5;28mfloat\u001b[39m(y)\n",
      "\u001b[0;31mValueError\u001b[0m: Changing the dtype of a 0d array is only supported if the itemsize is unchanged"
     ]
    }
   ],
   "source": [
    "y=np.float32(22)\n",
    "i = y.view(np.int32)\n",
    "i = 0x5F3759DF - (i >> 1)\n",
    "y = i.view(np.float32)\n",
    "y *= 1.5 - (22*0.5*y*y)\n",
    "float(y)"
   ]
  },
  {
   "cell_type": "code",
   "execution_count": 235,
   "id": "75016ca3",
   "metadata": {},
   "outputs": [
    {
     "data": {
      "text/plain": [
       "(numpy.float32, numpy.int64)"
      ]
     },
     "execution_count": 235,
     "metadata": {},
     "output_type": "execute_result"
    }
   ],
   "source": [
    "type(y), type(i)"
   ]
  },
  {
   "cell_type": "code",
   "execution_count": 258,
   "id": "174013fb",
   "metadata": {},
   "outputs": [],
   "source": [
    "def numpy_isqrt(number):\n",
    "    threehalfs = 1.5\n",
    "    x2 = number * 0.5\n",
    "    y = np.float32(number)\n",
    "    \n",
    "    i = y.view(np.int32)\n",
    "    i = np.int32(0x5f3759df) - np.int32(i >> 1)\n",
    "    y = i.view(np.float32)\n",
    "    \n",
    "    y = y * (threehalfs - (x2 * y * y))\n",
    "    return float(y)"
   ]
  },
  {
   "cell_type": "code",
   "execution_count": 259,
   "id": "720f0bb8",
   "metadata": {},
   "outputs": [
    {
     "data": {
      "text/plain": [
       "0.21302941052210683"
      ]
     },
     "execution_count": 259,
     "metadata": {},
     "output_type": "execute_result"
    }
   ],
   "source": [
    "numpy_isqrt(22)"
   ]
  },
  {
   "cell_type": "code",
   "execution_count": 260,
   "id": "e1ee0fdc",
   "metadata": {},
   "outputs": [
    {
     "data": {
      "text/plain": [
       "0.21320071635561044"
      ]
     },
     "execution_count": 260,
     "metadata": {},
     "output_type": "execute_result"
    }
   ],
   "source": [
    "22**-0.5"
   ]
  },
  {
   "cell_type": "code",
   "execution_count": 261,
   "id": "94af7319",
   "metadata": {},
   "outputs": [],
   "source": [
    "def builtin_isqrt(number):\n",
    "    return number ** -0.5"
   ]
  },
  {
   "cell_type": "code",
   "execution_count": 265,
   "id": "19c4f308",
   "metadata": {},
   "outputs": [],
   "source": [
    "class Interval(object):\n",
    "    def __init__(self, s, e):\n",
    "        self.s = s\n",
    "        self.e = e\n"
   ]
  },
  {
   "cell_type": "code",
   "execution_count": 268,
   "id": "a82ea685",
   "metadata": {},
   "outputs": [],
   "source": [
    "class Solution:\n",
    "    def canAttendMeetings(self, intervals)->bool:\n",
    "        intervals.sort(key = lambda i: i.s)\n",
    "        \n",
    "        for i in range(1, len(intervals)):\n",
    "            i1 = intervals[i-1]\n",
    "            i2 = intervals[i]\n",
    "            \n",
    "            if i1.e > i2.s:\n",
    "                print('overlapping')\n",
    "                return False \n",
    "        return True "
   ]
  },
  {
   "cell_type": "code",
   "execution_count": 271,
   "id": "74788973",
   "metadata": {},
   "outputs": [
    {
     "name": "stdout",
     "output_type": "stream",
     "text": [
      "overlapping\n",
      "False\n"
     ]
    }
   ],
   "source": [
    "intervals = [Interval(0,30),Interval(5,10),Interval(15,20)]\n",
    "print(Solution().canAttendMeetings(intervals))"
   ]
  },
  {
   "cell_type": "code",
   "execution_count": null,
   "id": "6cfccf4f",
   "metadata": {},
   "outputs": [],
   "source": [
    "class MaxHeap:\n",
    "    def __init__(self, items=[]):\n",
    "        super().__init__()\n",
    "        self.heap = [0]\n",
    "        for i in items:\n",
    "            self.heap.append(i)\n",
    "            self.__floatUp(len(self.heap) - 1)\n",
    "            \n",
    "    def push(self, data):\n",
    "        self.heap.append(data)\n",
    "        self.__floatUp(len(self.heap) - 1)\n",
    "        \n",
    "    def peek(self):\n",
    "        if self.heap[1]:\n",
    "            return self.heap[1]\n",
    "        else:\n",
    "            return False \n",
    "        \n",
    "    def pop(self):\n",
    "        if len(self.heap)>2:\n",
    "            self.__swap(1, len(self.heap) - 1)\n",
    "            max = self.heap.pop()\n",
    "            self.__bubbleDown(1)\n",
    "        elif len(sellf.heap) == 2:\n",
    "            max = self.heap.pop()\n",
    "        else:\n",
    "            max = False \n",
    "        return max \n",
    "    \n",
    "    def __swap(self, i, j):\n",
    "        self.heap[i], self.heap[j] = self.heap[j], self.heap[i]\n",
    "        \n",
    "    def __floatUp(self, index):\n",
    "        parent = index // 2 \n",
    "        if index <= 1:\n",
    "            return \n",
    "        elif self.heap[index] > self.heap[parent]:\n",
    "            self.__swap(index, parent)\n",
    "            self.__floatUp(parent)\n",
    "    \n",
    "    def __bubbleDown(self, index):\n",
    "        left = index * 2 \n",
    "        right = index * 2 + 1 \n",
    "        largest = index \n",
    "        if len(self.heap) > left and self.heap[largest] < self.heap[left]:\n",
    "            largest = left \n",
    "        if len(self.heap) > right and self.heap[largest] < self.heap[right]:\n",
    "            largest = right \n",
    "        if largestt != index:\n",
    "            self.__swap(index, largest)\n",
    "            self.__bubbleDown(largest)"
   ]
  },
  {
   "cell_type": "code",
   "execution_count": null,
   "id": "7f0a3112",
   "metadata": {},
   "outputs": [],
   "source": [
    "        # from last index len(freq)-1, up to beginning 0, in descending order -1 \n",
    "        for i in range(len(freq) - 1, 0, -1):   # index based, index from largest to smallest\n",
    "            for n in freq[i]:    # get bucket content [3], it can have multiples [3,4,5]\n"
   ]
  },
  {
   "cell_type": "code",
   "execution_count": 280,
   "id": "2c75ba65",
   "metadata": {},
   "outputs": [
    {
     "name": "stdout",
     "output_type": "stream",
     "text": [
      "index=4, nums[i]=0\n",
      "index=3, nums[i]=0\n",
      "index=2, nums[i]=0\n",
      "index=1, nums[i]=0\n",
      "index=0, nums[i]=0\n"
     ]
    }
   ],
   "source": [
    "nums = [n for n in range(5)]    # [0, 1, 2, 3, 4]\n",
    "for index in range(len(nums)-1, -1, -1):\n",
    "    print(f'{index=}, {nums[i]=}')"
   ]
  },
  {
   "cell_type": "code",
   "execution_count": 287,
   "id": "56357fdb",
   "metadata": {},
   "outputs": [
    {
     "name": "stdout",
     "output_type": "stream",
     "text": [
      "{1: 3, 2: 2, 3: 1}\n",
      "[[], [3], [2], [1], [], [], []]\n",
      "[]\n",
      "[]\n",
      "[]\n",
      "[1]\n",
      "[3]\n",
      "[2]\n",
      "[2]\n",
      "[3]\n",
      "[1]\n",
      "[]\n"
     ]
    }
   ],
   "source": [
    "nums = [1,1,1,2,2,3]\n",
    "count = {}\n",
    "freq = [[] for i in range(len(nums)+1)]\n",
    "for n in nums:\n",
    "    count[n] = 1 + count.get(n, 0)\n",
    "print(count)\n",
    "for n,c in count.items():\n",
    "    freq[c].append(n)\n",
    "print(freq)\n",
    "for i in range(len(freq)-1, -1, -1):\n",
    "    print(freq[i])\n",
    "    for n in freq[i]:\n",
    "        print(freq[n])"
   ]
  },
  {
   "cell_type": "code",
   "execution_count": 303,
   "id": "2a956868",
   "metadata": {},
   "outputs": [],
   "source": [
    "import heapq\n",
    "from heapq import heappush, heappop, merge"
   ]
  },
  {
   "cell_type": "code",
   "execution_count": 304,
   "id": "44b55c4e",
   "metadata": {},
   "outputs": [
    {
     "ename": "TypeError",
     "evalue": "'list' object is not callable",
     "output_type": "error",
     "traceback": [
      "\u001b[0;31m---------------------------------------------------------------------------\u001b[0m",
      "\u001b[0;31mTypeError\u001b[0m                                 Traceback (most recent call last)",
      "Cell \u001b[0;32mIn[304], line 5\u001b[0m\n\u001b[1;32m      3\u001b[0m heappush(heap,\u001b[38;5;241m2\u001b[39m)\n\u001b[1;32m      4\u001b[0m heappop(heap)\n\u001b[0;32m----> 5\u001b[0m \u001b[43mheap\u001b[49m\u001b[43m(\u001b[49m\u001b[43mmerge\u001b[49m\u001b[43m(\u001b[49m\u001b[43m[\u001b[49m\u001b[38;5;241;43m1\u001b[39;49m\u001b[43m,\u001b[49m\u001b[38;5;241;43m2\u001b[39;49m\u001b[43m,\u001b[49m\u001b[38;5;241;43m3\u001b[39;49m\u001b[43m]\u001b[49m\u001b[43m,\u001b[49m\u001b[43m[\u001b[49m\u001b[38;5;241;43m4\u001b[39;49m\u001b[43m,\u001b[49m\u001b[38;5;241;43m5\u001b[39;49m\u001b[43m]\u001b[49m\u001b[43m)\u001b[49m\u001b[43m)\u001b[49m\n",
      "\u001b[0;31mTypeError\u001b[0m: 'list' object is not callable"
     ]
    }
   ],
   "source": [
    "heap=[]\n",
    "heappush(heap,1)\n",
    "heappush(heap,2)\n",
    "heappop(heap)\n",
    "heap(merge([1,2,3],[4,5]))\n"
   ]
  },
  {
   "cell_type": "code",
   "execution_count": 291,
   "id": "b41560dd",
   "metadata": {},
   "outputs": [
    {
     "name": "stdout",
     "output_type": "stream",
     "text": [
      "Help on module heapq:\n",
      "\n",
      "NAME\n",
      "    heapq - Heap queue algorithm (a.k.a. priority queue).\n",
      "\n",
      "MODULE REFERENCE\n",
      "    https://docs.python.org/3.11/library/heapq.html\n",
      "    \n",
      "    The following documentation is automatically generated from the Python\n",
      "    source files.  It may be incomplete, incorrect or include features that\n",
      "    are considered implementation detail and may vary between Python\n",
      "    implementations.  When in doubt, consult the module reference at the\n",
      "    location listed above.\n",
      "\n",
      "DESCRIPTION\n",
      "    Heaps are arrays for which a[k] <= a[2*k+1] and a[k] <= a[2*k+2] for\n",
      "    all k, counting elements from 0.  For the sake of comparison,\n",
      "    non-existing elements are considered to be infinite.  The interesting\n",
      "    property of a heap is that a[0] is always its smallest element.\n",
      "    \n",
      "    Usage:\n",
      "    \n",
      "    heap = []            # creates an empty heap\n",
      "    heappush(heap, item) # pushes a new item on the heap\n",
      "    item = heappop(heap) # pops the smallest item from the heap\n",
      "    item = heap[0]       # smallest item on the heap without popping it\n",
      "    heapify(x)           # transforms list into a heap, in-place, in linear time\n",
      "    item = heappushpop(heap, item) # pushes a new item and then returns\n",
      "                                   # the smallest item; the heap size is unchanged\n",
      "    item = heapreplace(heap, item) # pops and returns smallest item, and adds\n",
      "                                   # new item; the heap size is unchanged\n",
      "    \n",
      "    Our API differs from textbook heap algorithms as follows:\n",
      "    \n",
      "    - We use 0-based indexing.  This makes the relationship between the\n",
      "      index for a node and the indexes for its children slightly less\n",
      "      obvious, but is more suitable since Python uses 0-based indexing.\n",
      "    \n",
      "    - Our heappop() method returns the smallest item, not the largest.\n",
      "    \n",
      "    These two make it possible to view the heap as a regular Python list\n",
      "    without surprises: heap[0] is the smallest item, and heap.sort()\n",
      "    maintains the heap invariant!\n",
      "\n",
      "FUNCTIONS\n",
      "    heapify(heap, /)\n",
      "        Transform list into a heap, in-place, in O(len(heap)) time.\n",
      "    \n",
      "    heappop(heap, /)\n",
      "        Pop the smallest item off the heap, maintaining the heap invariant.\n",
      "    \n",
      "    heappush(heap, item, /)\n",
      "        Push item onto heap, maintaining the heap invariant.\n",
      "    \n",
      "    heappushpop(heap, item, /)\n",
      "        Push item on the heap, then pop and return the smallest item from the heap.\n",
      "        \n",
      "        The combined action runs more efficiently than heappush() followed by\n",
      "        a separate call to heappop().\n",
      "    \n",
      "    heapreplace(heap, item, /)\n",
      "        Pop and return the current smallest value, and add the new item.\n",
      "        \n",
      "        This is more efficient than heappop() followed by heappush(), and can be\n",
      "        more appropriate when using a fixed-size heap.  Note that the value\n",
      "        returned may be larger than item!  That constrains reasonable uses of\n",
      "        this routine unless written as part of a conditional replacement:\n",
      "        \n",
      "            if item > heap[0]:\n",
      "                item = heapreplace(heap, item)\n",
      "    \n",
      "    merge(*iterables, key=None, reverse=False)\n",
      "        Merge multiple sorted inputs into a single sorted output.\n",
      "        \n",
      "        Similar to sorted(itertools.chain(*iterables)) but returns a generator,\n",
      "        does not pull the data into memory all at once, and assumes that each of\n",
      "        the input streams is already sorted (smallest to largest).\n",
      "        \n",
      "        >>> list(merge([1,3,5,7], [0,2,4,8], [5,10,15,20], [], [25]))\n",
      "        [0, 1, 2, 3, 4, 5, 5, 7, 8, 10, 15, 20, 25]\n",
      "        \n",
      "        If *key* is not None, applies a key function to each element to determine\n",
      "        its sort order.\n",
      "        \n",
      "        >>> list(merge(['dog', 'horse'], ['cat', 'fish', 'kangaroo'], key=len))\n",
      "        ['dog', 'cat', 'fish', 'horse', 'kangaroo']\n",
      "    \n",
      "    nlargest(n, iterable, key=None)\n",
      "        Find the n largest elements in a dataset.\n",
      "        \n",
      "        Equivalent to:  sorted(iterable, key=key, reverse=True)[:n]\n",
      "    \n",
      "    nsmallest(n, iterable, key=None)\n",
      "        Find the n smallest elements in a dataset.\n",
      "        \n",
      "        Equivalent to:  sorted(iterable, key=key)[:n]\n",
      "\n",
      "DATA\n",
      "    __about__ = 'Heap queues\\n\\n[explanation by François Pinard]\\n\\nH... t...\n",
      "    __all__ = ['heappush', 'heappop', 'heapify', 'heapreplace', 'merge', '...\n",
      "\n",
      "FILE\n",
      "    /Users/user/opt/anaconda3/envs/gpt-local/lib/python3.11/heapq.py\n",
      "\n",
      "\n"
     ]
    }
   ],
   "source": [
    "help(heapq)"
   ]
  },
  {
   "cell_type": "code",
   "execution_count": 294,
   "id": "8eb182cc",
   "metadata": {},
   "outputs": [
    {
     "ename": "NameError",
     "evalue": "name 'merge' is not defined",
     "output_type": "error",
     "traceback": [
      "\u001b[0;31m---------------------------------------------------------------------------\u001b[0m",
      "\u001b[0;31mNameError\u001b[0m                                 Traceback (most recent call last)",
      "Cell \u001b[0;32mIn[294], line 1\u001b[0m\n\u001b[0;32m----> 1\u001b[0m \u001b[38;5;28mlist\u001b[39m(\u001b[43mmerge\u001b[49m([\u001b[38;5;241m1\u001b[39m,\u001b[38;5;241m2\u001b[39m,\u001b[38;5;241m3\u001b[39m],[\u001b[38;5;241m4\u001b[39m,\u001b[38;5;241m5\u001b[39m]))\n",
      "\u001b[0;31mNameError\u001b[0m: name 'merge' is not defined"
     ]
    }
   ],
   "source": [
    "list(merge([1,2,3],[4,5]))"
   ]
  },
  {
   "cell_type": "code",
   "execution_count": 305,
   "id": "ccac55f3",
   "metadata": {},
   "outputs": [
    {
     "data": {
      "text/plain": [
       "{1: 1, 2: 4, 3: 9, 4: 16}"
      ]
     },
     "execution_count": 305,
     "metadata": {},
     "output_type": "execute_result"
    }
   ],
   "source": [
    "{i: i ** 2 for i in range(1,5)}"
   ]
  },
  {
   "cell_type": "code",
   "execution_count": 306,
   "id": "7bfa30a8",
   "metadata": {},
   "outputs": [
    {
     "data": {
      "text/plain": [
       "{1: None, 2: None, 3: None}"
      ]
     },
     "execution_count": 306,
     "metadata": {},
     "output_type": "execute_result"
    }
   ],
   "source": [
    "dict.fromkeys([1,2,3])"
   ]
  },
  {
   "cell_type": "code",
   "execution_count": 310,
   "id": "74b4bca9",
   "metadata": {},
   "outputs": [
    {
     "data": {
      "text/plain": [
       "[('a', 97), ('b', 98), ('c', 99)]"
      ]
     },
     "execution_count": 310,
     "metadata": {},
     "output_type": "execute_result"
    }
   ],
   "source": [
    "[(k, ord(k)) for k in 'abc']"
   ]
  },
  {
   "cell_type": "code",
   "execution_count": 313,
   "id": "8f28c671",
   "metadata": {},
   "outputs": [
    {
     "data": {
      "text/plain": [
       "{'a': 1, 'b': 2}"
      ]
     },
     "execution_count": 313,
     "metadata": {},
     "output_type": "execute_result"
    }
   ],
   "source": [
    "d = {'a':1, 'b':2}\n",
    "{k:v for k, v in d.items()}"
   ]
  },
  {
   "cell_type": "code",
   "execution_count": 314,
   "id": "a8e9d92a",
   "metadata": {},
   "outputs": [
    {
     "ename": "AttributeError",
     "evalue": "'dict' object has no attribute 'deepcopy'",
     "output_type": "error",
     "traceback": [
      "\u001b[0;31m---------------------------------------------------------------------------\u001b[0m",
      "\u001b[0;31mAttributeError\u001b[0m                            Traceback (most recent call last)",
      "Cell \u001b[0;32mIn[314], line 2\u001b[0m\n\u001b[1;32m      1\u001b[0m \u001b[38;5;28;01mfrom\u001b[39;00m \u001b[38;5;21;01mcopy\u001b[39;00m \u001b[38;5;28;01mimport\u001b[39;00m deepcopy\n\u001b[0;32m----> 2\u001b[0m d1 \u001b[38;5;241m=\u001b[39m \u001b[43md\u001b[49m\u001b[38;5;241;43m.\u001b[39;49m\u001b[43mdeepcopy\u001b[49m()\n\u001b[1;32m      3\u001b[0m address(d), address(d1)\n",
      "\u001b[0;31mAttributeError\u001b[0m: 'dict' object has no attribute 'deepcopy'"
     ]
    }
   ],
   "source": [
    "from copy import deepcopy\n",
    "d1 = d.deepcopy()\n",
    "address(d), address(d1)"
   ]
  },
  {
   "cell_type": "code",
   "execution_count": 315,
   "id": "e5f9733c",
   "metadata": {},
   "outputs": [
    {
     "data": {
      "text/plain": [
       "{'h', 'n', 'o', 'p', 't', 'y'}"
      ]
     },
     "execution_count": 315,
     "metadata": {},
     "output_type": "execute_result"
    }
   ],
   "source": [
    "{ c for c in 'python'}"
   ]
  },
  {
   "cell_type": "code",
   "execution_count": 317,
   "id": "22248a3a",
   "metadata": {},
   "outputs": [
    {
     "data": {
      "text/plain": [
       "2"
      ]
     },
     "execution_count": 317,
     "metadata": {},
     "output_type": "execute_result"
    }
   ],
   "source": [
    "s = \"()\"\n",
    "len(s)"
   ]
  },
  {
   "cell_type": "code",
   "execution_count": 322,
   "id": "4ff39c8d",
   "metadata": {},
   "outputs": [
    {
     "data": {
      "text/plain": [
       "False"
      ]
     },
     "execution_count": 322,
     "metadata": {},
     "output_type": "execute_result"
    }
   ],
   "source": [
    "s = \"()(\"\n",
    "False if len(s)%2 !=0 else True\n"
   ]
  },
  {
   "cell_type": "code",
   "execution_count": 335,
   "id": "138f921b",
   "metadata": {},
   "outputs": [],
   "source": [
    "class Solution:\n",
    "    def isValid(self, s: str)->bool:\n",
    "        stack = []\n",
    "        for ch in s:\n",
    "            if ch == '(':\n",
    "                stack.append(ch)\n",
    "            if ch == ')':\n",
    "                if len(stack) and stack[-1]=='(':\n",
    "                    stack.pop()\n",
    "                else: \n",
    "                    return False \n",
    "        if len(stack):\n",
    "            return False \n",
    "        return True\n",
    "                \n",
    "                    "
   ]
  },
  {
   "cell_type": "code",
   "execution_count": 337,
   "id": "a0429fbd",
   "metadata": {},
   "outputs": [
    {
     "data": {
      "text/plain": [
       "False"
      ]
     },
     "execution_count": 337,
     "metadata": {},
     "output_type": "execute_result"
    }
   ],
   "source": [
    "Solution().isValid(\"()(\")"
   ]
  },
  {
   "cell_type": "code",
   "execution_count": 346,
   "id": "954a7169",
   "metadata": {},
   "outputs": [],
   "source": [
    "class Solution:\n",
    "    def isValid(self, s: str) -> bool:\n",
    "        stack = []\n",
    "        for ch in s:\n",
    "            if ch == '(':\n",
    "                stack.append(ch)\n",
    "            elif ch == \")\":\n",
    "                if len(stack) and stack[-1]==\"(\":\n",
    "                    stack.pop()\n",
    "                else:\n",
    "                    return False \n",
    "        return True if not len(stack) else False"
   ]
  },
  {
   "cell_type": "code",
   "execution_count": 347,
   "id": "5844a4ee",
   "metadata": {},
   "outputs": [
    {
     "name": "stdout",
     "output_type": "stream",
     "text": [
      "True\n"
     ]
    }
   ],
   "source": [
    "print(Solution().isValid(\"()()\"))"
   ]
  },
  {
   "cell_type": "code",
   "execution_count": 354,
   "id": "75f09724",
   "metadata": {},
   "outputs": [],
   "source": [
    "class Solution:\n",
    "    def calculate(self, s: str)-> int:\n",
    "        size = len(s)\n",
    "        stack = []\n",
    "        op = '+'\n",
    "        index = 0 \n",
    "        \n",
    "        while index < size:\n",
    "            if s[index] == ' ':\n",
    "                index += 1\n",
    "                continue \n",
    "            if s[index].isdigit():\n",
    "                num = ord(s[index]) - ord('0')\n",
    "                while index+1 < size and s[index+1].isdigit():\n",
    "                    index += 1\n",
    "                    num = 10*num + ord(s[index]) - ord('0')\n",
    "                if op == '+':\n",
    "                    stack.append(num)\n",
    "                elif op == '-':\n",
    "                    stack.append(-num)\n",
    "                elif op == '*':\n",
    "                    top = stack.pop()\n",
    "                    stack.append(top * num)\n",
    "                elif op == '/':\n",
    "                    top = stack.pop()\n",
    "                    stack.append(int(top/num))\n",
    "            elif s[index] in \"+-*/\":\n",
    "                op = s[index]\n",
    "            index += 1\n",
    "        return sum(stack)"
   ]
  },
  {
   "cell_type": "code",
   "execution_count": 355,
   "id": "ce553a29",
   "metadata": {},
   "outputs": [
    {
     "data": {
      "text/plain": [
       "7"
      ]
     },
     "execution_count": 355,
     "metadata": {},
     "output_type": "execute_result"
    }
   ],
   "source": [
    "s = \"3+2*2\"\n",
    "Solution().calculate(s)\n"
   ]
  },
  {
   "cell_type": "code",
   "execution_count": 356,
   "id": "8d8dee5c",
   "metadata": {},
   "outputs": [
    {
     "data": {
      "text/plain": [
       "1"
      ]
     },
     "execution_count": 356,
     "metadata": {},
     "output_type": "execute_result"
    }
   ],
   "source": [
    "s = \" 3/2 \"\n",
    "Solution().calculate(s)"
   ]
  },
  {
   "cell_type": "code",
   "execution_count": 358,
   "id": "a2aa5824",
   "metadata": {},
   "outputs": [
    {
     "data": {
      "text/plain": [
       "3"
      ]
     },
     "execution_count": 358,
     "metadata": {},
     "output_type": "execute_result"
    }
   ],
   "source": [
    "ord('3')-ord('0')"
   ]
  },
  {
   "cell_type": "code",
   "execution_count": null,
   "id": "9ee12fa4",
   "metadata": {},
   "outputs": [],
   "source": [
    "def monotoneIncreaseStack(nums):\n",
    "    stack = [] \n",
    "    for num in nums:\n",
    "        while stack and num >= stack[-1]:\n",
    "            stack.pop()\n",
    "        stack.append(num)"
   ]
  },
  {
   "cell_type": "code",
   "execution_count": null,
   "id": "dd0d7c96",
   "metadata": {},
   "outputs": [],
   "source": [
    "def monotoneIncreaseStack(nums):\n",
    "    stack = []\n",
    "    for num in nums:\n",
    "        while stack and num >= stack[-1]:            \n",
    "            stack.pop()\n",
    "        stack.append()"
   ]
  },
  {
   "cell_type": "code",
   "execution_count": 360,
   "id": "0e07b6b5",
   "metadata": {},
   "outputs": [],
   "source": [
    "def value(nums, i):\n",
    "    if 0<= i <= len(nums) - 1:\n",
    "        print(nums[i])"
   ]
  },
  {
   "cell_type": "code",
   "execution_count": 362,
   "id": "b34325ff",
   "metadata": {},
   "outputs": [
    {
     "name": "stdout",
     "output_type": "stream",
     "text": [
      "7\n"
     ]
    }
   ],
   "source": [
    "arr = [0,5,2,3,7,1,6]\n",
    "value(arr,4)"
   ]
  },
  {
   "cell_type": "code",
   "execution_count": 366,
   "id": "4d421eea",
   "metadata": {},
   "outputs": [
    {
     "name": "stdout",
     "output_type": "stream",
     "text": [
      "[0, 2, 3, 7]\n"
     ]
    }
   ],
   "source": [
    "arr = [0,5,2,3,7]\n",
    "arr.remove(5)\n",
    "print(arr)"
   ]
  },
  {
   "cell_type": "code",
   "execution_count": 364,
   "id": "f83b84e2",
   "metadata": {},
   "outputs": [
    {
     "name": "stdout",
     "output_type": "stream",
     "text": [
      "7\n"
     ]
    }
   ],
   "source": [
    "value(arr, 4)"
   ]
  },
  {
   "cell_type": "code",
   "execution_count": 367,
   "id": "6472d7c5",
   "metadata": {},
   "outputs": [],
   "source": [
    "class Solution:\n",
    "    def bubbleSort(self, nums: [int]) -> [int]:\n",
    "        for i in range(len(nums) -1):\n",
    "            flag = False\n",
    "            for j in range(len(nums)-i-1):\n",
    "                if nums[j] > nums[j+1]:\n",
    "                    nums[j], nums[j+1] = nums[j+1], nums[j]\n",
    "                    flag = True\n",
    "            if not flag:\n",
    "                break\n",
    "        return nums "
   ]
  },
  {
   "cell_type": "code",
   "execution_count": null,
   "id": "0713e207",
   "metadata": {},
   "outputs": [],
   "source": [
    "class Solution:\n",
    "    def selectionSort(self, nums: [int])-> [int]:\n",
    "        for i in range(len(nums)-1):\n",
    "            min_i = i\n",
    "            for j in range(i+1, len(nums)):\n",
    "                if nums[j] < nums[min_i]:\n",
    "                    min_i = j \n",
    "            if i != min_i:\n",
    "                nums[i], nums[min_i] = nums[min_i], nums[i]\n",
    "        return nums \n",
    "    \n",
    "    def sortArray(self, nums: [int]) -> [int]:\n",
    "        return self.selectionSort(nums)"
   ]
  },
  {
   "cell_type": "code",
   "execution_count": 368,
   "id": "2b839b97",
   "metadata": {},
   "outputs": [],
   "source": [
    "class MaxHeap:\n",
    "    def __init__(self):\n",
    "        self.max_heap = [] \n",
    "        \n",
    "    def peek(self) -> int:\n",
    "        if not self.max_heap:\n",
    "            return None \n",
    "        return  self.max_heap[0]\n",
    "    \n",
    "    def push(self, val: int):\n",
    "        self.max_heap.append(val)\n",
    "        size = len(self.max_heap)\n",
    "        self.__shift_up(size - 1)\n",
    "        \n",
    "    def __shift_up(self, i: int):\n",
    "        while (i - 1) // 2 >= 0 and self.max_heap[i] > self.max_heap[(i - 1) // 2]:\n",
    "            self.max_heap[i], self.max_heap[(i-1)//2] = self.max_heap[(i - 1) // 2], self.max_heap[i]"
   ]
  },
  {
   "cell_type": "code",
   "execution_count": null,
   "id": "0fafe521",
   "metadata": {},
   "outputs": [],
   "source": [
    "from typing import List \n",
    "\n",
    "class Solution:\n",
    "    def permute(self, nums: List[int]) -> List[List[int]]:\n",
    "        res = [] \n",
    "        path = []\n",
    "        def backtracking(nums):\n",
    "            if len(path) == len(nums):\n",
    "                res.append(path[:])\n",
    "                return \n",
    "        for i in range(len(nums)):\n",
    "            if nums[i] not in path:\n",
    "                path.append(nums[i])\n",
    "                backtracking(nums)\n",
    "                path.pop()\n",
    "        backtracking(nums)\n",
    "        return res "
   ]
  },
  {
   "cell_type": "code",
   "execution_count": null,
   "id": "8dc1233c",
   "metadata": {},
   "outputs": [],
   "source": [
    "res = []\n",
    "path = [] \n",
    "def backtracking(nums):\n",
    "    if :\n",
    "        res.append(path[:])\n",
    "        return \n",
    "    for i in range(len(nums)):\n",
    "        path.append(nums[i])\n",
    "        backtracking(nums)\n",
    "        path.pop()\n",
    "        \n",
    "        "
   ]
  },
  {
   "cell_type": "code",
   "execution_count": 370,
   "id": "05ba03a4",
   "metadata": {},
   "outputs": [
    {
     "data": {
      "text/plain": [
       "[1, 1, 1, 2, 2]"
      ]
     },
     "execution_count": 370,
     "metadata": {},
     "output_type": "execute_result"
    }
   ],
   "source": [
    "[1]*3+[2]*2"
   ]
  },
  {
   "cell_type": "code",
   "execution_count": 381,
   "id": "eaaf666d",
   "metadata": {},
   "outputs": [
    {
     "name": "stdout",
     "output_type": "stream",
     "text": [
      "1 {1: 1}\n",
      "1 {1: 2}\n",
      "0 {1: 2, 0: 1}\n",
      "2 {1: 2, 0: 1, 2: 1}\n",
      "1 {1: 3, 0: 1, 2: 1}\n",
      "2 {1: 3, 0: 1, 2: 2}\n",
      "{1: 3, 0: 1, 2: 2} [0, 1, 1, 1, 2, 2]\n"
     ]
    }
   ],
   "source": [
    "count = {}\n",
    "nums = [1,1,0,2,1,2]\n",
    "res = []\n",
    "for num in nums:\n",
    "    count[num] = count.get(num, 0)+1\n",
    "    print(num, count)\n",
    "\n",
    "for i in range(3):\n",
    "    res += [i]*count[i]\n",
    "    \n",
    "print(count, res)"
   ]
  },
  {
   "cell_type": "code",
   "execution_count": 384,
   "id": "cf18b678",
   "metadata": {},
   "outputs": [],
   "source": [
    "nums = [0, 1, 1, 1, 2, 2]"
   ]
  },
  {
   "cell_type": "code",
   "execution_count": 390,
   "id": "11defd28",
   "metadata": {},
   "outputs": [
    {
     "name": "stdout",
     "output_type": "stream",
     "text": [
      "[0, 1, 1, 1, 2, 2] {0: 1, 1: 3, 2: 2}\n"
     ]
    }
   ],
   "source": [
    "nums = [0, 1, 1, 1, 2, 2]\n",
    "count = {}\n",
    "res = []\n",
    "for num in nums:\n",
    "    count[num] = count.get(num, 0)+1\n",
    "for i in range(3):\n",
    "    res += [i]*count[i]\n",
    "print(res, count)"
   ]
  },
  {
   "cell_type": "code",
   "execution_count": 394,
   "id": "c770c48b",
   "metadata": {},
   "outputs": [
    {
     "name": "stdout",
     "output_type": "stream",
     "text": [
      "1 1\n",
      "2 6\n",
      "3 15\n",
      "4 16\n",
      "5 21\n",
      "6 30\n",
      "7 31\n",
      "8 36\n",
      "9 45\n"
     ]
    }
   ],
   "source": [
    "m = [[1,2,3],[4,5,6],[7,8,9]]\n",
    "res = 0\n",
    "for i in range(len(m)):\n",
    "    for j in range(len(m[0])):\n",
    "        res+=m[j][j]\n",
    "        print(m[i][j], res)"
   ]
  },
  {
   "cell_type": "code",
   "execution_count": 395,
   "id": "55909e22",
   "metadata": {},
   "outputs": [],
   "source": [
    "def alg(n):\n",
    "    cnt = 1 \n",
    "    res = 0 \n",
    "    while cnt<n:\n",
    "        cnt *= 2\n",
    "        for i in range(n):\n",
    "            res += 1 \n",
    "    return res \n"
   ]
  },
  {
   "cell_type": "code",
   "execution_count": 397,
   "id": "01c35a4f",
   "metadata": {},
   "outputs": [],
   "source": [
    "def f(n):\n",
    "    cnt = 1\n",
    "    ress = 0 \n",
    "    while cnt < n:\n",
    "        cnt *= 2\n",
    "        for i in range(n):\n",
    "            res += 1 \n",
    "    return res "
   ]
  },
  {
   "cell_type": "code",
   "execution_count": null,
   "id": "68805ff1",
   "metadata": {},
   "outputs": [],
   "source": [
    "def find(nums, val):\n",
    "    pos = -1 \n",
    "    for num in nums: \n",
    "        if nums[i] == val:\n",
    "            pos = i\n",
    "            break\n",
    "    return pos "
   ]
  },
  {
   "cell_type": "code",
   "execution_count": 410,
   "id": "d2165ac1",
   "metadata": {},
   "outputs": [],
   "source": [
    "def f(n):\n",
    "    if n<=0:\n",
    "        return 1 \n",
    "    return n*f(n-1)"
   ]
  },
  {
   "cell_type": "code",
   "execution_count": 411,
   "id": "3524c4a6",
   "metadata": {},
   "outputs": [
    {
     "data": {
      "text/plain": [
       "120"
      ]
     },
     "execution_count": 411,
     "metadata": {},
     "output_type": "execute_result"
    }
   ],
   "source": [
    "f(5)"
   ]
  },
  {
   "cell_type": "code",
   "execution_count": 413,
   "id": "14cd1735",
   "metadata": {},
   "outputs": [
    {
     "data": {
      "text/plain": [
       "[0, 1]"
      ]
     },
     "execution_count": 413,
     "metadata": {},
     "output_type": "execute_result"
    }
   ],
   "source": [
    "from typing import List\n",
    "nums = [2,7,11,15]\n",
    "target = 9\n",
    "class Solution:\n",
    "    def twoSum(self, nums: List[int], target: int) -> List[int]:\n",
    "        for i in range(len(nums)):\n",
    "            for j in range(i+1, len(nums)):\n",
    "                if i != j and nums[i]+nums[j]==target:\n",
    "                    return [i, j]\n",
    "        return []\n",
    "Solution().twoSum(nums, target)"
   ]
  },
  {
   "cell_type": "code",
   "execution_count": null,
   "id": "db6045ac",
   "metadata": {},
   "outputs": [],
   "source": [
    "class Solution:\n",
    "    def twoSum(self, nums: List[int], target: int) -> List[int]:\n",
    "        numDict={}\n",
    "        for i in range(len(nums)):\n",
    "            if (target - nums[i]) in numDict:\n",
    "                return [nums[target-nums[i]], i]\n",
    "            numsDict[nums[i]] = i\n",
    "        return []"
   ]
  },
  {
   "cell_type": "code",
   "execution_count": 1,
   "id": "eec72d80",
   "metadata": {},
   "outputs": [],
   "source": [
    "class Solution:\n",
    "    def bubble(self, nums: [int]) -> [int]:\n",
    "        for i in range(len(nums)-1):\n",
    "            flag = False \n",
    "            for j in range(len(nums)-i -1):\n",
    "                if nums[j]>nums[j+1]:\n",
    "                    nums[j], nums[j+1] = nums[j+1],nums[j]\n",
    "                    flag = True\n",
    "            if not flag: \n",
    "                break \n",
    "        return nums \n",
    "    \n",
    "    def sortArray(self, nums: [int]) -> [int]:\n",
    "        return self.bubbleSort(nums)"
   ]
  },
  {
   "cell_type": "code",
   "execution_count": 9,
   "id": "2c2ea0e2",
   "metadata": {},
   "outputs": [
    {
     "data": {
      "text/plain": [
       "1073741824"
      ]
     },
     "execution_count": 9,
     "metadata": {},
     "output_type": "execute_result"
    }
   ],
   "source": [
    "2<<29"
   ]
  },
  {
   "cell_type": "code",
   "execution_count": 10,
   "id": "f3649d5f",
   "metadata": {},
   "outputs": [
    {
     "data": {
      "text/plain": [
       "5"
      ]
     },
     "execution_count": 10,
     "metadata": {},
     "output_type": "execute_result"
    }
   ],
   "source": [
    "nums=[1,2,3,4,5]\n",
    "len(nums)"
   ]
  },
  {
   "cell_type": "code",
   "execution_count": 14,
   "id": "603dd5a2",
   "metadata": {},
   "outputs": [
    {
     "name": "stdout",
     "output_type": "stream",
     "text": [
      "0\n",
      "1\n",
      "2\n",
      "3\n",
      "4\n"
     ]
    }
   ],
   "source": [
    "for i in range(len(nums)):\n",
    "    print(i)"
   ]
  },
  {
   "cell_type": "code",
   "execution_count": 16,
   "id": "f735638b",
   "metadata": {},
   "outputs": [],
   "source": [
    "from typing import List\n",
    "class Solution: \n",
    "    def search(self, nums: List[int], target: int) -> int:\n",
    "        left, right = 0, len(nums)-1\n",
    "        while left <= right:\n",
    "            mid = (left+right)//2\n",
    "            if nums[mid] == target:\n",
    "                return mid\n",
    "            elif nums[mid] < target:\n",
    "                left = mid + 1\n",
    "            else:\n",
    "                right = mid -1 \n",
    "        return -1 "
   ]
  },
  {
   "cell_type": "code",
   "execution_count": 17,
   "id": "a549da9c",
   "metadata": {},
   "outputs": [
    {
     "data": {
      "text/plain": [
       "4"
      ]
     },
     "execution_count": 17,
     "metadata": {},
     "output_type": "execute_result"
    }
   ],
   "source": [
    "Solution().search([1,2,3,4,5,6,7], 5)"
   ]
  },
  {
   "cell_type": "code",
   "execution_count": 35,
   "id": "521e9230",
   "metadata": {},
   "outputs": [],
   "source": [
    "def search(ns, t)->int:\n",
    "    l,r=0,len(ns)-1\n",
    "    while l<=r:\n",
    "        m=(l+r)//2\n",
    "        if ns[m]==t:\n",
    "            return m\n",
    "        elif ns[m]>t:\n",
    "            r=m-1\n",
    "        else:\n",
    "            l=m+1\n",
    "    return -1"
   ]
  },
  {
   "cell_type": "code",
   "execution_count": 37,
   "id": "2958d8ee",
   "metadata": {},
   "outputs": [
    {
     "data": {
      "text/plain": [
       "4"
      ]
     },
     "execution_count": 37,
     "metadata": {},
     "output_type": "execute_result"
    }
   ],
   "source": [
    "search([1,2,3,4,5,6,7], 5)"
   ]
  },
  {
   "cell_type": "code",
   "execution_count": 42,
   "id": "31244d5b",
   "metadata": {},
   "outputs": [],
   "source": [
    "class Solution:\n",
    "    def twosum(self, ns: List[int], target: int) -> List[int]:\n",
    "        l, r = 0, len(ns)-1\n",
    "        while l<r:\n",
    "            total = ns[l]+ns[r]\n",
    "            if total == target:\n",
    "                return [l+1, r+1]\n",
    "            elif total < target:\n",
    "                l += 1\n",
    "            else:\n",
    "                r -= 1\n",
    "        return [-1,-1]"
   ]
  },
  {
   "cell_type": "code",
   "execution_count": 43,
   "id": "a5442796",
   "metadata": {},
   "outputs": [
    {
     "data": {
      "text/plain": [
       "[1, 2]"
      ]
     },
     "execution_count": 43,
     "metadata": {},
     "output_type": "execute_result"
    }
   ],
   "source": [
    "numbers = [2,7,11,15]\n",
    "target = 9\n",
    "Solution().twosum(numbers, target)"
   ]
  },
  {
   "cell_type": "code",
   "execution_count": 67,
   "id": "c6c8c258",
   "metadata": {},
   "outputs": [],
   "source": [
    "class Solution: \n",
    "    def maxArea(self, h: List[int])->int:\n",
    "        l,r,a=0,len(h)-1,0\n",
    "        while l<r:\n",
    "            area=min(h[l],h[r])*(r-l)\n",
    "            a=max(a, area)\n",
    "            if h[l]<h[r]:\n",
    "                l+=1\n",
    "            else:\n",
    "                r-=1\n",
    "        return a"
   ]
  },
  {
   "cell_type": "code",
   "execution_count": 68,
   "id": "0aa70bac",
   "metadata": {},
   "outputs": [
    {
     "data": {
      "text/plain": [
       "56"
      ]
     },
     "execution_count": 68,
     "metadata": {},
     "output_type": "execute_result"
    }
   ],
   "source": [
    "heights = [7,8,6,2,5,4,8,3,7,1]\n",
    "Solution().maxArea(heights)"
   ]
  },
  {
   "cell_type": "code",
   "execution_count": null,
   "id": "29f71030",
   "metadata": {},
   "outputs": [],
   "source": []
  },
  {
   "cell_type": "code",
   "execution_count": 84,
   "id": "31375fc8",
   "metadata": {},
   "outputs": [],
   "source": [
    "#cdcr \n",
    "class Solution:\n",
    "    def removedup(self, nums: List[int])->int:\n",
    "        slow, fast = 0, 1\n",
    "        while fast < len(nums):\n",
    "            # 1,1,2\n",
    "            if nums[slow]!= nums[fast]:\n",
    "                slow+=1\n",
    "                nums[slow]=nums[fast]\n",
    "            fast +=1 \n",
    "            \n",
    "        return slow+1 # this is count, not index"
   ]
  },
  {
   "cell_type": "code",
   "execution_count": 85,
   "id": "b7faab21",
   "metadata": {},
   "outputs": [
    {
     "data": {
      "text/plain": [
       "5"
      ]
     },
     "execution_count": 85,
     "metadata": {},
     "output_type": "execute_result"
    }
   ],
   "source": [
    "Solution().removedup([0,0,1,1,1,2,2,3,3,4])"
   ]
  },
  {
   "cell_type": "code",
   "execution_count": 121,
   "id": "cb4be767",
   "metadata": {},
   "outputs": [],
   "source": [
    "# csd, cer\n",
    "class Solution: \n",
    "    def intersection(self, nums1: List[int], nums2: List[int])->List[int]:\n",
    "        if not nums1 or not nums2:\n",
    "            return []\n",
    "        nums1.sort(), nums2.sort()\n",
    "        \n",
    "        left1, left2=0, 0\n",
    "        res = set()\n",
    "        \n",
    "        while left1 < len(nums1) and left2 < len(nums2):\n",
    "            if nums1[left1] == nums2[left2]:\n",
    "                res.add(nums1[left1])\n",
    "                left1 +=1 \n",
    "                left2 +=1\n",
    "            elif nums1[left1]<nums2[left2]:\n",
    "                left1 +=1 \n",
    "            elif nums1[left1]>nums2[left2]:\n",
    "                left2+=1\n",
    "                \n",
    "        return list(res)\n",
    "    "
   ]
  },
  {
   "cell_type": "code",
   "execution_count": 122,
   "id": "76c0713a",
   "metadata": {},
   "outputs": [],
   "source": [
    "nums1 = [4,9,5]\n",
    "nums2 = [9,4,9,8,4]\n"
   ]
  },
  {
   "cell_type": "code",
   "execution_count": 123,
   "id": "2f49d5b3",
   "metadata": {},
   "outputs": [
    {
     "data": {
      "text/plain": [
       "[9, 4]"
      ]
     },
     "execution_count": 123,
     "metadata": {},
     "output_type": "execute_result"
    }
   ],
   "source": [
    "Solution().intersection(nums1, nums2)"
   ]
  },
  {
   "cell_type": "code",
   "execution_count": 152,
   "id": "aa33a2db",
   "metadata": {},
   "outputs": [],
   "source": [
    "def strcmp(s1, s2):\n",
    "    i1, i2 =0, 0\n",
    "    while i1 < len(s1) and i2 < len(s2):\n",
    "        if ord(s1[i1]) == ord(s2[i2]):\n",
    "            i1 += 1\n",
    "            i2 += 1\n",
    "        elif ord(s1[i1]) < ord(s2[i2]):\n",
    "            return -1\n",
    "        else:\n",
    "            return 1 \n",
    "        \n",
    "        if len(s1) < len(s2):\n",
    "            return -1\n",
    "        elif len(s1) > len(s2):\n",
    "            return 1\n",
    "        else:\n",
    "            return 0"
   ]
  },
  {
   "cell_type": "code",
   "execution_count": 154,
   "id": "85acbd88",
   "metadata": {},
   "outputs": [
    {
     "name": "stdout",
     "output_type": "stream",
     "text": [
      "0\n",
      "-1\n"
     ]
    }
   ],
   "source": [
    "print(strcmp('hello', 'hello'))\n",
    "print(strcmp('hello', 'world'))"
   ]
  },
  {
   "cell_type": "code",
   "execution_count": 159,
   "id": "8e942e90",
   "metadata": {},
   "outputs": [],
   "source": [
    "class Solution:\n",
    "    def majorityElement(self, nums: List[int])->int:\n",
    "        candidate = nums[0]\n",
    "        counter = 1\n",
    "        for i in range(1, len(nums)):\n",
    "            if counter == 0:\n",
    "                candidate = nums[i]\n",
    "            if nums[i] == candidate:\n",
    "                counter +=1 \n",
    "            else: \n",
    "                counter =+1 \n",
    "                \n",
    "        return candidate"
   ]
  },
  {
   "cell_type": "code",
   "execution_count": 162,
   "id": "4d57bf12",
   "metadata": {},
   "outputs": [
    {
     "data": {
      "text/plain": [
       "2"
      ]
     },
     "execution_count": 162,
     "metadata": {},
     "output_type": "execute_result"
    }
   ],
   "source": [
    "nums = [3,2,3]\n",
    "nums1=[2,2,1,1,2,2]\n",
    "Solution().majorityElement(nums1)"
   ]
  },
  {
   "cell_type": "code",
   "execution_count": null,
   "id": "00ee9c3c",
   "metadata": {},
   "outputs": [],
   "source": [
    "class Solution:\n",
    "    def isValid(self, s: str)-> bool:\n",
    "        stack = []\n",
    "        for ch in s:\n",
    "            if ch =='(':\n",
    "                stack.push(')')\n",
    "            elif ch == '[':\n",
    "                stack.push(']')\n",
    "            elif ch == '{':\n",
    "                stack.push('}')\n",
    "            elif not stack or stack.pop() != ch:\n",
    "                return False \n",
    "        return False if stack else True "
   ]
  },
  {
   "cell_type": "code",
   "execution_count": 163,
   "id": "04e97010",
   "metadata": {},
   "outputs": [
    {
     "ename": "NameError",
     "evalue": "name 'startmap' is not defined",
     "output_type": "error",
     "traceback": [
      "\u001b[0;31m---------------------------------------------------------------------------\u001b[0m",
      "\u001b[0;31mNameError\u001b[0m                                 Traceback (most recent call last)",
      "Cell \u001b[0;32mIn[163], line 1\u001b[0m\n\u001b[0;32m----> 1\u001b[0m \u001b[43mstartmap\u001b[49m(func, iterable)\n",
      "\u001b[0;31mNameError\u001b[0m: name 'startmap' is not defined"
     ]
    }
   ],
   "source": [
    "startmap(func, iterable)"
   ]
  },
  {
   "cell_type": "code",
   "execution_count": 166,
   "id": "2cadb8ac",
   "metadata": {},
   "outputs": [
    {
     "data": {
      "text/plain": [
       "[1, 81]"
      ]
     },
     "execution_count": 166,
     "metadata": {},
     "output_type": "execute_result"
    }
   ],
   "source": [
    "from itertools import starmap\n",
    "li=[(1,2),(3,4)]\n",
    "new_li = list(starmap(pow, li))\n",
    "new_li"
   ]
  },
  {
   "cell_type": "code",
   "execution_count": 173,
   "id": "c1653dee",
   "metadata": {},
   "outputs": [
    {
     "data": {
      "text/plain": [
       "[1, 81]"
      ]
     },
     "execution_count": 173,
     "metadata": {},
     "output_type": "execute_result"
    }
   ],
   "source": [
    "from itertools import starmap\n",
    "li = [(1,2),(3,4)]\n",
    "new_li = starmap(pow, li)\n",
    "list(new_li)\n"
   ]
  },
  {
   "cell_type": "code",
   "execution_count": 185,
   "id": "e34af8b7",
   "metadata": {},
   "outputs": [
    {
     "data": {
      "text/plain": [
       "[3, 7]"
      ]
     },
     "execution_count": 185,
     "metadata": {},
     "output_type": "execute_result"
    }
   ],
   "source": [
    "from itertools import starmap \n",
    "li = [(1,2),(3,4)]\n",
    "a = starmap(lambda x, y: x+y, li)\n",
    "list(a)"
   ]
  },
  {
   "cell_type": "code",
   "execution_count": 196,
   "id": "c4828fee",
   "metadata": {},
   "outputs": [
    {
     "data": {
      "text/plain": [
       "(defaultdict(<function __main__.default_val()>,\n",
       "             {'a': 1, 'b': 2, 'c': 'NotPresent'}),\n",
       " 'NotPresent',\n",
       " defaultdict(<function __main__.default_val()>,\n",
       "             {'a': 1, 'b': 2, 'c': 'NotPresent'}))"
      ]
     },
     "execution_count": 196,
     "metadata": {},
     "output_type": "execute_result"
    }
   ],
   "source": [
    "from collections import defaultdict \n",
    "def default_val():\n",
    "    return \"NotPresent\"\n",
    "d = defaultdict(default_val)\n",
    "d['a']=1\n",
    "d['b']=2\n",
    "d,d['c'],d"
   ]
  },
  {
   "cell_type": "code",
   "execution_count": 200,
   "id": "db94e301",
   "metadata": {},
   "outputs": [
    {
     "data": {
      "text/plain": [
       "(['a', 'b'],\n",
       " 'not present',\n",
       " defaultdict(<function __main__.<lambda>()>,\n",
       "             {'a': 1, 'b': 2, 'c': 'not present'}))"
      ]
     },
     "execution_count": 200,
     "metadata": {},
     "output_type": "execute_result"
    }
   ],
   "source": [
    "from collections import defaultdict\n",
    "d = defaultdict(lambda: \"not present\")\n",
    "d['a']=1\n",
    "d['b']=2\n",
    "list(d), d['c'], d"
   ]
  },
  {
   "cell_type": "code",
   "execution_count": 207,
   "id": "3cc05be8",
   "metadata": {},
   "outputs": [
    {
     "data": {
      "text/plain": [
       "defaultdict(list, {0: 0, 1: 1, 2: 2, 3: 3, 4: 4})"
      ]
     },
     "execution_count": 207,
     "metadata": {},
     "output_type": "execute_result"
    }
   ],
   "source": [
    "from collections import defaultdict\n",
    "d = defaultdict(list)\n",
    "for i in range(5):\n",
    "    d[i]=i\n",
    "d"
   ]
  },
  {
   "cell_type": "code",
   "execution_count": 208,
   "id": "62a7d3da",
   "metadata": {},
   "outputs": [],
   "source": [
    "from collections import defaultdict\n",
    "d = defaultdict(int)\n",
    "l = [1,2,3,4]\n",
    "for i in l:\n",
    "    d[i]+=1"
   ]
  },
  {
   "cell_type": "code",
   "execution_count": 209,
   "id": "349b92ca",
   "metadata": {},
   "outputs": [
    {
     "data": {
      "text/plain": [
       "defaultdict(int, {1: 1, 2: 1, 3: 1, 4: 1})"
      ]
     },
     "execution_count": 209,
     "metadata": {},
     "output_type": "execute_result"
    }
   ],
   "source": [
    "d"
   ]
  },
  {
   "cell_type": "code",
   "execution_count": null,
   "id": "8aad3e73",
   "metadata": {},
   "outputs": [],
   "source": [
    "def genBadCharTable(p:str):\n",
    "    m = len(p)\n",
    "    d = dict()\n",
    "    for i ini range(m):\n",
    "        d(p[i]) = m-i\n",
    "    return bc_table\n"
   ]
  }
 ],
 "metadata": {
  "kernelspec": {
   "display_name": "Python 3 (ipykernel)",
   "language": "python",
   "name": "python3"
  },
  "language_info": {
   "codemirror_mode": {
    "name": "ipython",
    "version": 3
   },
   "file_extension": ".py",
   "mimetype": "text/x-python",
   "name": "python",
   "nbconvert_exporter": "python",
   "pygments_lexer": "ipython3",
   "version": "3.11.4"
  }
 },
 "nbformat": 4,
 "nbformat_minor": 5
}
