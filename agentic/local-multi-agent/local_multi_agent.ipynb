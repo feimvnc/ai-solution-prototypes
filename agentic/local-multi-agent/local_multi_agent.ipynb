{
 "cells": [
  {
   "cell_type": "code",
   "execution_count": 8,
   "id": "ea446eea-563a-441f-b47a-59a5d29a9fec",
   "metadata": {},
   "outputs": [],
   "source": [
    "# This script runs on local computer completely\n",
    "\n",
    "# Download model\n",
    "# ollama pull qwen2.5:3b-instruct\n",
    "\n",
    "# Install langgraph supervisor\n",
    "# !pip install langgraph_supervisor\n",
    "\n",
    "# python -V  \n",
    "# Python 3.12.7"
   ]
  },
  {
   "cell_type": "code",
   "execution_count": 26,
   "id": "0ca3b239-57fe-42da-afe1-d077cb40e6f9",
   "metadata": {},
   "outputs": [],
   "source": [
    "from langchain_ollama import ChatOllama\n",
    "\n",
    "# initialize\n",
    "local_llm = \"qwen2.5:3b-instruct\"\n",
    "# https://smith.langchain.com/public/64099131-709f-4475-9d2a-89079212d9c2/r\n",
    "model = ChatOllama(model=local_llm, temperature=0.0)"
   ]
  },
  {
   "cell_type": "code",
   "execution_count": 27,
   "id": "359d77ce-7229-4d49-bc8f-5cee49d94e63",
   "metadata": {},
   "outputs": [],
   "source": [
    "# Use multiple agents to handle separate concerns\n",
    "# specialized agent can handle specified task\n",
    "\n",
    "# Tools\n",
    "def add(a: float, b: float) -> float:\n",
    "    \"\"\"Add two numbers\"\"\"\n",
    "    return a + b\n",
    "\n",
    "def multiply(a: float, b: float) -> float:\n",
    "    \"\"\"Multiply two numbers\"\"\"\n",
    "    return a * b\n",
    "\n",
    "def web_search(query: str) -> str:\n",
    "    \"\"\"Search the web for information\"\"\"\n",
    "    return (\n",
    "        \"Here are the headcounts for each of the FAANG companies in 2024:\\n\"\n",
    "        \"1. **Facebook (Meta)**: 67317 employees.\\n\"\n",
    "        \"2. **Apple**: 164,000 employees.\\n\"\n",
    "        \"3. **Amazon**: 1,551,000 employees.\\n\"\n",
    "        \"4. **Netflix**: 14,000 employees. \\n\"\n",
    "        \"5. **Google** (Alphabet)**: 181,269 employees.\"\n",
    "    )"
   ]
  },
  {
   "cell_type": "code",
   "execution_count": 28,
   "id": "71f24e38-0e03-4048-ae98-f1893cc876dc",
   "metadata": {},
   "outputs": [],
   "source": [
    "# Agents\n",
    "from langgraph.prebuilt import create_react_agent\n",
    "\n",
    "math_agent = create_react_agent(\n",
    "    model=model,\n",
    "    tools=[add, multiply],\n",
    "    name=\"math_expert\",  # descriptive name\n",
    "    prompt=\"You are a math expert. You have access to two tools: add and multiply. Call these tools to perform the tasks.\"\n",
    ")\n",
    "\n",
    "research_agent = create_react_agent(\n",
    "    model=model,\n",
    "    tools=[web_search],\n",
    "    name=\"research_expert\",\n",
    "    prompt=\"You are a researcher with access to one tool: web_search. Call this tool to find information about. \"\n",
    ")"
   ]
  },
  {
   "cell_type": "code",
   "execution_count": 29,
   "id": "16b524c6-fb2c-40b4-a519-1d47661b2289",
   "metadata": {},
   "outputs": [],
   "source": [
    "# Supervisor\n",
    "from langgraph_supervisor import create_supervisor\n",
    "\n",
    "prompt = (\n",
    "    \"You are a team supervisor managing a research expert and a math expert. \"\n",
    "        \"For current events, use research_agent. \"\n",
    "        \"For math problems, use math_agent.\"\n",
    ")\n",
    "\n",
    "math_research_workflow = create_supervisor(\n",
    "    [research_agent, math_agent],\n",
    "    model=model,\n",
    "    output_mode=\"full_history\", # (full_history or last_message)\n",
    "    prompt=prompt,\n",
    ")\n",
    "\n",
    "app = math_research_workflow.compile()\n"
   ]
  },
  {
   "cell_type": "code",
   "execution_count": 30,
   "id": "001b4d78-a776-4b3d-b9b0-42a802f49169",
   "metadata": {},
   "outputs": [
    {
     "data": {
      "image/png": "[encoded data removed]",
      "text/plain": [
       "<IPython.core.display.Image object>"
      ]
     },
     "metadata": {},
     "output_type": "display_data"
    }
   ],
   "source": [
    "# visualizatin\n",
    "from IPython.display import Image, display\n",
    "display(Image(app.get_graph().draw_mermaid_png()))"
   ]
  },
  {
   "cell_type": "code",
   "execution_count": 31,
   "id": "88bf506d-5034-4093-90da-6893a505ad59",
   "metadata": {},
   "outputs": [],
   "source": [
    "# Invoke\n",
    "result = app.invoke({\n",
    "    \"messages\": [\n",
    "        {\n",
    "            \"role\": \"user\",\n",
    "            \"content\": \"what's the combined headcount of FAANG companies in 2024?\"\n",
    "        }\n",
    "    ]\n",
    "})\n"
   ]
  },
  {
   "cell_type": "code",
   "execution_count": 32,
   "id": "eb9c130a-888d-4f65-8481-dfe0c4e1eb8d",
   "metadata": {},
   "outputs": [
    {
     "name": "stdout",
     "output_type": "stream",
     "text": [
      "================================\u001b[1m Human Message \u001b[0m=================================\n",
      "\n",
      "what's the combined headcount of FAANG companies in 2024?\n",
      "==================================\u001b[1m Ai Message \u001b[0m==================================\n",
      "Name: supervisor\n",
      "Tool Calls:\n",
      "  transfer_to_research_expert (4b954998-a75b-4abc-bafc-4ac1e7258eab)\n",
      " Call ID: 4b954998-a75b-4abc-bafc-4ac1e7258eab\n",
      "  Args:\n",
      "=================================\u001b[1m Tool Message \u001b[0m=================================\n",
      "Name: transfer_to_research_expert\n",
      "\n",
      "Successfully transferred to research_expert\n",
      "==================================\u001b[1m Ai Message \u001b[0m==================================\n",
      "Name: research_expert\n",
      "Tool Calls:\n",
      "  web_search (3ba88fbf-2e67-48f5-9d71-a21554cffd0f)\n",
      " Call ID: 3ba88fbf-2e67-48f5-9d71-a21554cffd0f\n",
      "  Args:\n",
      "    query: combined headcount FAANG companies 2024\n",
      "=================================\u001b[1m Tool Message \u001b[0m=================================\n",
      "Name: web_search\n",
      "\n",
      "Here are the headcounts for each of the FAANG companies in 2024:\n",
      "1. **Facebook (Meta)**: 67317 employees.\n",
      "2. **Apple**: 164,000 employees.\n",
      "3. **Amazon**: 1,551,000 employees.\n",
      "4. **Netflix**: 14,000 employees. \n",
      "5. **Google** (Alphabet)**: 181,269 employees.\n",
      "==================================\u001b[1m Ai Message \u001b[0m==================================\n",
      "Name: research_expert\n",
      "Tool Calls:\n",
      "  calculate (f0d07487-5960-4b63-a88e-aeaada8992f5)\n",
      " Call ID: f0d07487-5960-4b63-a88e-aeaada8992f5\n",
      "  Args:\n",
      "    expression: (67317 + 164000 + 1551000 + 14000 + 181269)\n",
      "=================================\u001b[1m Tool Message \u001b[0m=================================\n",
      "Name: calculate\n",
      "\n",
      "Error: calculate is not a valid tool, try one of [web_search].\n",
      "==================================\u001b[1m Ai Message \u001b[0m==================================\n",
      "Name: research_expert\n",
      "Tool Calls:\n",
      "  web_search (44058898-8eef-448c-8fa8-cc0e9981643b)\n",
      " Call ID: 44058898-8eef-448c-8fa8-cc0e9981643b\n",
      "  Args:\n",
      "    query: combined headcount FAANG companies 2024\n",
      "=================================\u001b[1m Tool Message \u001b[0m=================================\n",
      "Name: web_search\n",
      "\n",
      "Here are the headcounts for each of the FAANG companies in 2024:\n",
      "1. **Facebook (Meta)**: 67317 employees.\n",
      "2. **Apple**: 164,000 employees.\n",
      "3. **Amazon**: 1,551,000 employees.\n",
      "4. **Netflix**: 14,000 employees. \n",
      "5. **Google** (Alphabet)**: 181,269 employees.\n",
      "==================================\u001b[1m Ai Message \u001b[0m==================================\n",
      "Name: research_expert\n",
      "\n",
      "Based on the information provided by my previous search, here are the headcounts for each of the FAANG companies in 2024:\n",
      "- Facebook (Meta): 67,317 employees\n",
      "- Apple: 164,000 employees\n",
      "- Amazon: 1,551,000 employees\n",
      "- Netflix: 14,000 employees\n",
      "- Google (Alphabet): 181,269 employees\n",
      "\n",
      "To get the combined headcount for all FAANG companies in 2024, we need to add these numbers together:\n",
      "67317 + 164000 + 1551000 + 14000 + 181269 = **2,075,686**\n",
      "\n",
      "So the combined headcount of FAANG companies in 2024 is approximately 2,075,686 employees.\n",
      "==================================\u001b[1m Ai Message \u001b[0m==================================\n",
      "Name: research_expert\n",
      "\n",
      "Transferring back to supervisor\n",
      "Tool Calls:\n",
      "  transfer_back_to_supervisor (a972851b-cec8-4890-9460-d52bdab94f3b)\n",
      " Call ID: a972851b-cec8-4890-9460-d52bdab94f3b\n",
      "  Args:\n",
      "=================================\u001b[1m Tool Message \u001b[0m=================================\n",
      "Name: transfer_back_to_supervisor\n",
      "\n",
      "Successfully transferred back to supervisor\n",
      "==================================\u001b[1m Ai Message \u001b[0m==================================\n",
      "Name: supervisor\n",
      "\n",
      "The combined headcount of the FAANG companies (Facebook, Apple, Amazon, Netflix, and Google) in 2024 is approximately **2,075,686** employees.\n"
     ]
    }
   ],
   "source": [
    "for m in result['messages']:\n",
    "    m.pretty_print()"
   ]
  },
  {
   "cell_type": "code",
   "execution_count": 35,
   "id": "fe57f1b7-9af6-4138-bc9f-813ca26feb44",
   "metadata": {},
   "outputs": [
    {
     "data": {
      "text/plain": [
       "{'messages': [HumanMessage(content=\"what's the combined headcount of FAANG companies in 2024?\", additional_kwargs={}, response_metadata={}, id='37e33392-a27a-4210-bdc1-e730ef40926c'),\n",
       "  AIMessage(content='', additional_kwargs={}, response_metadata={'model': 'qwen2.5:3b-instruct', 'created_at': '2025-05-04T20:34:53.312364Z', 'done': True, 'done_reason': 'stop', 'total_duration': 12481129443, 'load_duration': 50433221, 'prompt_eval_count': 228, 'prompt_eval_duration': 3410802968, 'eval_count': 127, 'eval_duration': 9011824278, 'model_name': 'qwen2.5:3b-instruct'}, name='supervisor', id='run--c33ad2f4-01f9-43f6-a147-3958de3188e4-0', tool_calls=[{'name': 'transfer_to_research_expert', 'args': {}, 'id': '4b954998-a75b-4abc-bafc-4ac1e7258eab', 'type': 'tool_call'}], usage_metadata={'input_tokens': 228, 'output_tokens': 127, 'total_tokens': 355}),\n",
       "  ToolMessage(content='Successfully transferred to research_expert', name='transfer_to_research_expert', id='3d4d5e08-232e-43f9-bfb6-ad4f57a931e0', tool_call_id='4b954998-a75b-4abc-bafc-4ac1e7258eab'),\n",
       "  AIMessage(content='', additional_kwargs={}, response_metadata={'model': 'qwen2.5:3b-instruct', 'created_at': '2025-05-04T20:35:06.345554Z', 'done': True, 'done_reason': 'stop', 'total_duration': 13026122180, 'load_duration': 19095340, 'prompt_eval_count': 219, 'prompt_eval_duration': 3312765626, 'eval_count': 135, 'eval_duration': 9686065598, 'model_name': 'qwen2.5:3b-instruct'}, name='research_expert', id='run--5e73d0e5-bae6-48d9-8f90-23bf6ba85422-0', tool_calls=[{'name': 'web_search', 'args': {'query': 'combined headcount FAANG companies 2024'}, 'id': '3ba88fbf-2e67-48f5-9d71-a21554cffd0f', 'type': 'tool_call'}], usage_metadata={'input_tokens': 219, 'output_tokens': 135, 'total_tokens': 354}),\n",
       "  ToolMessage(content='Here are the headcounts for each of the FAANG companies in 2024:\\n1. **Facebook (Meta)**: 67317 employees.\\n2. **Apple**: 164,000 employees.\\n3. **Amazon**: 1,551,000 employees.\\n4. **Netflix**: 14,000 employees. \\n5. **Google** (Alphabet)**: 181,269 employees.', name='web_search', id='e990435c-bd57-4b5d-883d-44098a682edb', tool_call_id='3ba88fbf-2e67-48f5-9d71-a21554cffd0f'),\n",
       "  AIMessage(content='', additional_kwargs={}, response_metadata={'model': 'qwen2.5:3b-instruct', 'created_at': '2025-05-04T20:35:25.596873Z', 'done': True, 'done_reason': 'stop', 'total_duration': 19246130024, 'load_duration': 20634634, 'prompt_eval_count': 367, 'prompt_eval_duration': 2376971293, 'eval_count': 229, 'eval_duration': 16832249154, 'model_name': 'qwen2.5:3b-instruct'}, name='research_expert', id='run--bb3bb8b0-1bbb-40e0-bbc3-45c86178dad2-0', tool_calls=[{'name': 'calculate', 'args': {'expression': '(67317 + 164000 + 1551000 + 14000 + 181269)'}, 'id': 'f0d07487-5960-4b63-a88e-aeaada8992f5', 'type': 'tool_call'}], usage_metadata={'input_tokens': 367, 'output_tokens': 229, 'total_tokens': 596}),\n",
       "  ToolMessage(content='Error: calculate is not a valid tool, try one of [web_search].', name='calculate', id='78135095-76ad-4e1f-9fc7-fa2cea9a194b', tool_call_id='f0d07487-5960-4b63-a88e-aeaada8992f5', status='error'),\n",
       "  AIMessage(content='', additional_kwargs={}, response_metadata={'model': 'qwen2.5:3b-instruct', 'created_at': '2025-05-04T20:35:31.032999Z', 'done': True, 'done_reason': 'stop', 'total_duration': 5432294534, 'load_duration': 19526722, 'prompt_eval_count': 456, 'prompt_eval_duration': 1715879544, 'eval_count': 48, 'eval_duration': 3678058166, 'model_name': 'qwen2.5:3b-instruct'}, name='research_expert', id='run--b14900b8-7a3b-4bf1-a50b-4b0d7661c003-0', tool_calls=[{'name': 'web_search', 'args': {'query': 'combined headcount FAANG companies 2024'}, 'id': '44058898-8eef-448c-8fa8-cc0e9981643b', 'type': 'tool_call'}], usage_metadata={'input_tokens': 456, 'output_tokens': 48, 'total_tokens': 504}),\n",
       "  ToolMessage(content='Here are the headcounts for each of the FAANG companies in 2024:\\n1. **Facebook (Meta)**: 67317 employees.\\n2. **Apple**: 164,000 employees.\\n3. **Amazon**: 1,551,000 employees.\\n4. **Netflix**: 14,000 employees. \\n5. **Google** (Alphabet)**: 181,269 employees.', name='web_search', id='876a7df4-78af-42cf-8b6a-0f04f117f11b', tool_call_id='44058898-8eef-448c-8fa8-cc0e9981643b'),\n",
       "  AIMessage(content='Based on the information provided by my previous search, here are the headcounts for each of the FAANG companies in 2024:\\n- Facebook (Meta): 67,317 employees\\n- Apple: 164,000 employees\\n- Amazon: 1,551,000 employees\\n- Netflix: 14,000 employees\\n- Google (Alphabet): 181,269 employees\\n\\nTo get the combined headcount for all FAANG companies in 2024, we need to add these numbers together:\\n67317 + 164000 + 1551000 + 14000 + 181269 = **2,075,686**\\n\\nSo the combined headcount of FAANG companies in 2024 is approximately 2,075,686 employees.', additional_kwargs={}, response_metadata={'model': 'qwen2.5:3b-instruct', 'created_at': '2025-05-04T20:35:49.134075Z', 'done': True, 'done_reason': 'stop', 'total_duration': 18096556977, 'load_duration': 19332867, 'prompt_eval_count': 604, 'prompt_eval_duration': 2788874291, 'eval_count': 204, 'eval_duration': 15259292933, 'model_name': 'qwen2.5:3b-instruct'}, name='research_expert', id='run--803fddea-ad42-499f-b572-b4e214c66603-0', usage_metadata={'input_tokens': 604, 'output_tokens': 204, 'total_tokens': 808}),\n",
       "  AIMessage(content='Transferring back to supervisor', additional_kwargs={}, response_metadata={'__is_handoff_back': True}, name='research_expert', id='dcb94471-1e46-4d90-97cd-4f6b4361a8bf', tool_calls=[{'name': 'transfer_back_to_supervisor', 'args': {}, 'id': 'a972851b-cec8-4890-9460-d52bdab94f3b', 'type': 'tool_call'}]),\n",
       "  ToolMessage(content='Successfully transferred back to supervisor', name='transfer_back_to_supervisor', id='af9b4293-5c38-4fe1-88fd-352ee94d7e8d', tool_call_id='a972851b-cec8-4890-9460-d52bdab94f3b'),\n",
       "  AIMessage(content='The combined headcount of the FAANG companies (Facebook, Apple, Amazon, Netflix, and Google) in 2024 is approximately **2,075,686** employees.', additional_kwargs={}, response_metadata={'model': 'qwen2.5:3b-instruct', 'created_at': '2025-05-04T20:36:10.411275Z', 'done': True, 'done_reason': 'stop', 'total_duration': 21272366249, 'load_duration': 19422361, 'prompt_eval_count': 890, 'prompt_eval_duration': 17989440575, 'eval_count': 43, 'eval_duration': 3209284484, 'model_name': 'qwen2.5:3b-instruct'}, name='supervisor', id='run--19c9d835-5f7a-46e7-a200-b71186ec8e4a-0', usage_metadata={'input_tokens': 890, 'output_tokens': 43, 'total_tokens': 933})]}"
      ]
     },
     "execution_count": 35,
     "metadata": {},
     "output_type": "execute_result"
    }
   ],
   "source": [
    "result"
   ]
  },
  {
   "cell_type": "code",
   "execution_count": null,
   "id": "c3fc653c-46e5-4f73-a5aa-236ece7d5e16",
   "metadata": {},
   "outputs": [],
   "source": []
  }
 ],
 "metadata": {
  "kernelspec": {
   "display_name": "Python 3 (ipykernel)",
   "language": "python",
   "name": "python3"
  },
  "language_info": {
   "codemirror_mode": {
    "name": "ipython",
    "version": 3
   },
   "file_extension": ".py",
   "mimetype": "text/x-python",
   "name": "python",
   "nbconvert_exporter": "python",
   "pygments_lexer": "ipython3",
   "version": "3.12.7"
  }
 },
 "nbformat": 4,
 "nbformat_minor": 5
}
